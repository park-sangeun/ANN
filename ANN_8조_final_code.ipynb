{
 "cells": [
  {
   "cell_type": "markdown",
   "id": "023de57a",
   "metadata": {},
   "source": [
    "# 인공신경망 4조\n",
    "\n",
    "20202995 장진영  \n",
    "20211522 박상은  \n",
    "20192562 강성욱  \n",
    "20192596 백현우"
   ]
  },
  {
   "cell_type": "markdown",
   "id": "2819a799",
   "metadata": {},
   "source": [
    "## basic setting"
   ]
  },
  {
   "cell_type": "markdown",
   "id": "3538c376",
   "metadata": {},
   "source": [
    "## dataset load (by merge)"
   ]
  },
  {
   "cell_type": "code",
   "execution_count": null,
   "id": "8910e12c",
   "metadata": {},
   "outputs": [],
   "source": [
    "# 데이터 불러오기\n",
    "testing_set_merge = pd.read_csv('emnist-bymerge-test.csv')\n",
    "training_set_merge = pd.read_csv('emnist-bymerge-train.csv')\n",
    "\n",
    "# 훈련 데이터와 레이블 추출\n",
    "train_y_merge = np.array(training_set_merge.iloc[:, 0].values)\n",
    "train_x_merge = np.array(training_set_merge.iloc[:, 1:].values)\n",
    "\n",
    "# 테스트 데이터와 레이블 추출\n",
    "test_y_merge = np.array(testing_set_merge.iloc[:, 0].values)\n",
    "test_x_merge = np.array(testing_set_merge.iloc[:, 1:].values)\n",
    "\n",
    "# 데이터 정규화\n",
    "train_x_merge = train_x_merge / 255.0\n",
    "test_x_merge = test_x_merge / 255.0\n",
    "\n",
    "# 이미지 크기 재조정 (데이터 차원 변경)\n",
    "images_height = 28\n",
    "images_width = 28\n",
    "train_x_merge = train_x_merge.reshape(train_x_merge.shape[0], images_height, images_width, 1)\n",
    "test_x_merge = test_x_merge.reshape(test_x_merge.shape[0], images_height, images_width, 1)\n",
    "\n",
    "# 클래스 수 = 47\n",
    "number_of_classes = 47\n",
    "\n",
    "# 레이블 원-핫 인코딩\n",
    "train_y_merge = tf.keras.utils.to_categorical(train_y_merge, number_of_classes)\n",
    "test_y_merge = tf.keras.utils.to_categorical(test_y_merge, number_of_classes)\n",
    "\n",
    "VALIDATION_SPLIT = 0.15 \n",
    "train_x_merge, val_x_merge, train_y_merge, val_y_merge = train_test_split(train_x_merge, train_y_merge, \n",
    "                                                                          test_size=VALIDATION_SPLIT, random_state=42)"
   ]
  },
  {
   "cell_type": "markdown",
   "id": "e532e615",
   "metadata": {},
   "source": [
    "## dataset load (balanced)"
   ]
  },
  {
   "cell_type": "code",
   "execution_count": null,
   "id": "4761ebed",
   "metadata": {},
   "outputs": [],
   "source": [
    "# 데이터 불러오기\n",
    "testing_set_balance = pd.read_csv('emnist-balanced-test.csv')\n",
    "training_set_balance = pd.read_csv('emnist-balanced-train.csv')\n",
    "\n",
    "\n",
    "# 훈련 데이터와 레이블 추출\n",
    "train_y_balance = np.array(training_set_balance.iloc[:, 0].values)\n",
    "train_x_balance = np.array(training_set_balance.iloc[:, 1:].values)\n",
    "\n",
    "# 테스트 데이터와 레이블 추출\n",
    "test_y_balance = np.array(testing_set_balance.iloc[:, 0].values)\n",
    "test_x_balance = np.array(testing_set_balance.iloc[:, 1:].values)\n",
    "\n",
    "# 데이터 정규화\n",
    "train_x_balance = train_x_balance / 255.0\n",
    "test_x_balance = test_x_balance / 255.0\n",
    "\n",
    "# 이미지 크기 재조정 (데이터 차원 변경)\n",
    "images_height = 28\n",
    "images_width = 28\n",
    "train_x_balance = train_x_balance.reshape(train_x_balance.shape[0], images_height, images_width, 1)\n",
    "test_x_balance = test_x_balance.reshape(test_x_balance.shape[0], images_height, images_width, 1)\n",
    "\n",
    "# 클래스 수 = 47\n",
    "number_of_classes = 47\n",
    "\n",
    "# 레이블 원-핫 인코딩\n",
    "train_y_balance = tf.keras.utils.to_categorical(train_y_balance, number_of_classes)\n",
    "test_y_balance = tf.keras.utils.to_categorical(test_y_balance, number_of_classes)\n",
    "\n",
    "VALIDATION_SPLIT = 0.15\n",
    "train_x_balance, val_x_balance, train_y_balance, val_y_balance = train_test_split(train_x_balance, train_y_balance, \n",
    "                                                                              test_size=VALIDATION_SPLIT, random_state=42)"
   ]
  },
  {
   "cell_type": "markdown",
   "id": "da9c0923",
   "metadata": {},
   "source": [
    "## LeNet (by_merge)"
   ]
  },
  {
   "cell_type": "code",
   "execution_count": null,
   "id": "4b5a9e35",
   "metadata": {},
   "outputs": [],
   "source": [
    "from tensorflow.keras.callbacks import EarlyStopping, ReduceLROnPlateau,ModelCheckpoint\n",
    "from sklearn.model_selection import train_test_split\n",
    "from tensorflow.keras.applications import ResNet50\n",
    "from tensorflow.keras.layers import Conv2D, Input,AveragePooling2D, Dense, Flatten\n",
    "from tensorflow.keras.models import Model"
   ]
  },
  {
   "cell_type": "markdown",
   "id": "88aa75d0",
   "metadata": {},
   "source": [
    "### hyperparameter 변경하며 최적화 진행"
   ]
  },
  {
   "cell_type": "code",
   "execution_count": null,
   "id": "daa3c4ed",
   "metadata": {},
   "outputs": [],
   "source": [
    "# Hyper parameter setting\n",
    "BATCH_SIZE = 32\n",
    "EPOCHS = 100\n",
    "VALIDATION_SPLIT = 0.15\n",
    "LEARNING_RATE = 0.001\n",
    "PATIENCE = 10\n",
    "MIN_LEARNING_RATE = 0.0001\n",
    "DECAY_FACTOR = 0.2\n",
    "DENSE_LAYER_ACTIVATION = 'tanh'\n",
    "FINAL_LAYER_ACTIVATION = 'softmax'\n",
    "LOSS_FUNCTION = 'categorical_crossentropy'\n",
    "METRICS = ['accuracy']\n",
    "\n",
    "CHECK_POINT_MERGE = 'Best_points_LeNet5_merge.h5'\n",
    "CHECK_POINT_BALANCE = 'Best_points_LeNet5_balance.h5'\n",
    "CHECK_POINT_BALANCE_AUG = 'Best_points_LeNet5_balance_aug.h5'"
   ]
  },
  {
   "cell_type": "code",
   "execution_count": null,
   "id": "64e8f8b6",
   "metadata": {},
   "outputs": [],
   "source": [
    "model_merge = tf.keras.Sequential([\n",
    "    Conv2D(6, kernel_size=(5, 5), activation=DENSE_LAYER_ACTIVATION, input_shape=(28, 28, 1), padding='same'),\n",
    "    AveragePooling2D(),\n",
    "    Conv2D(16, kernel_size=(5, 5), activation=DENSE_LAYER_ACTIVATION),\n",
    "    AveragePooling2D(),\n",
    "    Flatten(),\n",
    "    Dense(120, activation=DENSE_LAYER_ACTIVATION),\n",
    "    Dense(84, activation=DENSE_LAYER_ACTIVATION),\n",
    "    Dense(number_of_classes, activation=FINAL_LAYER_ACTIVATION)\n",
    "])\n",
    "\n",
    "model_merge.compile(optimizer=tf.keras.optimizers.Adam(learning_rate=LEARNING_RATE),\n",
    "              loss=LOSS_FUNCTION,\n",
    "              metrics=METRICS)\n",
    "\n",
    "\n",
    "callbacks_merge = [\n",
    "    ModelCheckpoint(CHECK_POINT_MERGE, verbose=1, save_best_only=True, monitor='val_accuracy', mode='max'),\n",
    "    EarlyStopping(monitor='val_accuracy', restore_best_weights=True, patience=PATIENCE, mode='max'),\n",
    "    ReduceLROnPlateau(monitor='val_loss', patience=PATIENCE, factor=DECAY_FACTOR, min_lr=MIN_LEARNING_RATE)\n",
    "]\n"
   ]
  },
  {
   "cell_type": "code",
   "execution_count": null,
   "id": "c201f63f",
   "metadata": {},
   "outputs": [],
   "source": [
    "start_time = time.time()  # 학습 시작 시간\n",
    "\n",
    "# 모델 학습\n",
    "history_merge = model_merge.fit(train_x_merge, train_y_merge, batch_size=BATCH_SIZE, epochs=EPOCHS, \n",
    "                                validation_data=(val_x_merge, val_y_merge), callbacks=callbacks_merge)\n",
    "\n",
    "training_time = time.time() - start_time"
   ]
  },
  {
   "cell_type": "code",
   "execution_count": null,
   "id": "056bf8e7",
   "metadata": {},
   "outputs": [],
   "source": [
    "# Evaluate model\n",
    "start_time = time.time()  # 추론 시작 시간\n",
    "predictions = model_merge.predict(test_x_merge)\n",
    "end_time = time.time()  # 추론 종료 시간\n",
    "total_inference_time = end_time - start_time\n",
    "average_inference_time = total_inference_time / len(test_x_merge)\n",
    "\n",
    "# 테스트 데이터에 대한 예측 결과 처리\n",
    "predicted_classes = np.argmax(predictions, axis=1)\n",
    "actual_classes = np.argmax(test_y_merge, axis=1)\n",
    "\n",
    "# 정확도 계산\n",
    "correct_predictions = np.sum(predicted_classes == actual_classes)\n",
    "accuracy = correct_predictions / len(predicted_classes)\n",
    "\n",
    "# 결과 출력\n",
    "print(f\"Correct Predictions: {correct_predictions}\")\n",
    "print(f\"Total Predictions: {len(predicted_classes)}\")\n",
    "print(f\"정확도: {accuracy:.2f}\")\n",
    "print(f\"훈련시간 : {training_time:.2f} seconds.\")\n",
    "print(f\"평균 추론 시간: {average_inference_time:.4f} seconds.\") "
   ]
  },
  {
   "cell_type": "markdown",
   "id": "815d4752",
   "metadata": {},
   "source": [
    "### hyperparameter 별 결과 (accuracy / training time / inference time)"
   ]
  },
  {
   "cell_type": "markdown",
   "id": "3f5b5db3",
   "metadata": {},
   "source": [
    "#### batch_size = 32   &   learning_rate = 0.001"
   ]
  },
  {
   "attachments": {},
   "cell_type": "markdown",
   "id": "ac13b989",
   "metadata": {},
   "source": [
    "Correct Predictions: 103526  \n",
    "Total Predictions: 116322  \n",
    "정확도: 0.89  \n",
    "훈련시간 : 1292.55 seconds  \n",
    "평균 추론 시간: 0.00003 seconds  "
   ]
  },
  {
   "cell_type": "markdown",
   "id": "06fff11a",
   "metadata": {},
   "source": [
    "------------"
   ]
  },
  {
   "cell_type": "markdown",
   "id": "cefcb441",
   "metadata": {},
   "source": [
    "#### batch_size = 32   &   learning_rate = 0.01"
   ]
  },
  {
   "cell_type": "markdown",
   "id": "e6d09843",
   "metadata": {},
   "source": [
    "Correct Predictions: 84915  \n",
    "Total Predictions: 116322  \n",
    "정확도: 0.73  \n",
    "훈련시간 : 1157.37 seconds  \n",
    "평균 추론 시간: 0.00002 seconds  "
   ]
  },
  {
   "cell_type": "markdown",
   "id": "89373cd2",
   "metadata": {},
   "source": [
    "------------"
   ]
  },
  {
   "cell_type": "markdown",
   "id": "95fc7cd7",
   "metadata": {},
   "source": [
    "#### batch_size = 64   &   learning_rate = 0.001\n",
    "\n",
    "Correct Predictions: 104177  \n",
    "Total Predictions: 116322  \n",
    "정확도: 0.90  \n",
    "훈련시간 : 1029.96 seconds.  \n",
    "평균 추론 시간: 0.00003 seconds.  "
   ]
  },
  {
   "cell_type": "markdown",
   "id": "48c5f8ae",
   "metadata": {},
   "source": [
    "---------"
   ]
  },
  {
   "cell_type": "markdown",
   "id": "3c8f20a7",
   "metadata": {},
   "source": [
    "#### batch_size = 64   &   learning_rate = 0.01\n",
    "Correct Predictions: 90886  \n",
    "Total Predictions: 116322  \n",
    "정확도: 0.78  \n",
    "훈련시간 : 451.53 seconds.  \n",
    "평균 추론 시간: 0.00002 seconds.  "
   ]
  },
  {
   "cell_type": "markdown",
   "id": "7f1ce58f",
   "metadata": {},
   "source": [
    "----------------\n",
    "---------------\n",
    "---------------"
   ]
  },
  {
   "cell_type": "markdown",
   "id": "e56da552",
   "metadata": {},
   "source": [
    "## LeNet (balanced)"
   ]
  },
  {
   "cell_type": "code",
   "execution_count": null,
   "id": "93252edc",
   "metadata": {},
   "outputs": [],
   "source": [
    "start_time = time.time()  # 학습 시작 시간\n",
    "\n",
    "# 모델 학습\n",
    "history_balance = model_balance.fit(train_x_balance, train_y_balance, batch_size=BATCH_SIZE, epochs=EPOCHS, \n",
    "                                validation_data=(val_x_balance, val_y_balance), callbacks=callbacks_balance)\n",
    "\n",
    "training_time = time.time() - start_time"
   ]
  },
  {
   "cell_type": "code",
   "execution_count": null,
   "id": "560ec9cb",
   "metadata": {},
   "outputs": [],
   "source": [
    "# Evaluate model\n",
    "start_time = time.time()  # 추론 시작 시간\n",
    "predictions = model_balance.predict(test_x_balance)\n",
    "end_time = time.time()  # 추론 종료 시간\n",
    "total_inference_time = end_time - start_time\n",
    "average_inference_time = total_inference_time / len(test_x_balance)\n",
    "\n",
    "# 테스트 데이터에 대한 예측 결과 처리\n",
    "predicted_classes = np.argmax(predictions, axis=1)\n",
    "actual_classes = np.argmax(test_y_balance, axis=1)\n",
    "\n",
    "# 정확도 계산\n",
    "correct_predictions = np.sum(predicted_classes == actual_classes)\n",
    "accuracy = correct_predictions / len(predicted_classes)\n",
    "\n",
    "# 결과 출력\n",
    "print(f\"Correct Predictions: {correct_predictions}\")\n",
    "print(f\"Total Predictions: {len(predicted_classes)}\")\n",
    "print(f\"정확도: {accuracy:.2f}\")\n",
    "print(f\"훈련시간 : {training_time:.2f} seconds.\")\n",
    "print(f\"평균 추론 시간: {average_inference_time:.5f} seconds.\") #각 샘플에 대한 추론 시간을 개별적으로 측정함으로써, 추론에 필요한 시간을 더 정확히 파악"
   ]
  },
  {
   "cell_type": "markdown",
   "id": "aea90def",
   "metadata": {},
   "source": [
    "### hyperparameter 별 결과 (accuracy / training time / inference time)"
   ]
  },
  {
   "cell_type": "markdown",
   "id": "e172079c",
   "metadata": {},
   "source": [
    "#### batch_size = 32   &   learning_rate = 0.001"
   ]
  },
  {
   "cell_type": "markdown",
   "id": "16848c20",
   "metadata": {},
   "source": [
    "Correct Predictions: 16355  \n",
    "Total Predictions: 18799  \n",
    "정확도: 0.87  \n",
    "훈련시간 : 106.57 seconds  \n",
    "평균 추론 시간: 0.00003 seconds  "
   ]
  },
  {
   "cell_type": "markdown",
   "id": "8d45ff52",
   "metadata": {},
   "source": [
    "------------"
   ]
  },
  {
   "cell_type": "markdown",
   "id": "6848cc3a",
   "metadata": {},
   "source": [
    "#### batch_size = 32   &   learning_rate = 0.01"
   ]
  },
  {
   "cell_type": "markdown",
   "id": "707fd19c",
   "metadata": {},
   "source": [
    "Correct Predictions: 13347  \n",
    "Total Predictions: 18799  \n",
    "정확도: 0.71  \n",
    "훈련시간 : 184.75 seconds  \n",
    "평균 추론 시간: 0.00002 seconds  "
   ]
  },
  {
   "cell_type": "markdown",
   "id": "9e952484",
   "metadata": {},
   "source": [
    "------------"
   ]
  },
  {
   "cell_type": "markdown",
   "id": "a891ce31",
   "metadata": {},
   "source": [
    "#### batch_size = 64   &   learning_rate = 0.001\n",
    "\n",
    "Correct Predictions: 16319  \n",
    "Total Predictions: 18799  \n",
    "정확도: 0.87  \n",
    "훈련시간 : 168.64 seconds.  \n",
    "평균 추론 시간: 0.00003 seconds.  \n",
    " "
   ]
  },
  {
   "cell_type": "markdown",
   "id": "655bf85e",
   "metadata": {},
   "source": [
    "---------"
   ]
  },
  {
   "cell_type": "markdown",
   "id": "5bff8468",
   "metadata": {},
   "source": [
    "#### batch_size = 64   &   learning_rate = 0.01\n",
    "Correct Predictions: 14158  \n",
    "Total Predictions: 18799  \n",
    "정확도: 0.75  \n",
    "훈련시간 : 141.02 seconds.  \n",
    "평균 추론 시간: 0.00002 seconds.  "
   ]
  },
  {
   "cell_type": "markdown",
   "id": "0fb4c8cb",
   "metadata": {},
   "source": [
    "--------\n",
    "----------\n",
    "---------"
   ]
  },
  {
   "cell_type": "markdown",
   "id": "50a200d4",
   "metadata": {},
   "source": [
    "## ResNet (by_merge)"
   ]
  },
  {
   "cell_type": "code",
   "execution_count": null,
   "id": "dc9627fa",
   "metadata": {},
   "outputs": [],
   "source": [
    "from tensorflow.keras.applications import ResNet50\n",
    "\n",
    "base_model = ResNet50(weights=None, include_top=False, input_tensor=Input(shape=(28, 28, 1)))\n",
    "x = base_model.output\n",
    "x = GlobalAveragePooling2D()(x)\n",
    "x = Dense(120, activation=DENSE_LAYER_ACTIVATION)(x)\n",
    "x = Dense(84, activation=DENSE_LAYER_ACTIVATION)(x)\n",
    "output = Dense(number_of_classes, activation=FINAL_LAYER_ACTIVATION)(x)\n",
    "\n",
    "# 새로운 모델 정의\n",
    "model_merge = Model(inputs=base_model.input, outputs=output)\n",
    "\n",
    "\n",
    "model_merge.compile(optimizer=tf.keras.optimizers.Adam(learning_rate=LEARNING_RATE),\n",
    "              loss=LOSS_FUNCTION,\n",
    "              metrics=METRICS)\n",
    "\n",
    "\n",
    "callbacks_merge = [\n",
    "    ModelCheckpoint(CHECK_POINT_MERGE, verbose=1, save_best_only=True, monitor='val_accuracy', mode='max'),\n",
    "    EarlyStopping(monitor='val_accuracy', restore_best_weights=True, patience=PATIENCE, mode='max'),\n",
    "    ReduceLROnPlateau(monitor='val_loss', patience=PATIENCE, factor=DECAY_FACTOR, min_lr=MIN_LEARNING_RATE)\n",
    "]\n"
   ]
  },
  {
   "cell_type": "code",
   "execution_count": null,
   "id": "3acfa926",
   "metadata": {},
   "outputs": [],
   "source": [
    "start_time = time.time()  # 학습 시작 시간\n",
    "\n",
    "# 모델 학습\n",
    "history_merge = model_merge.fit(train_x_merge, train_y_merge, batch_size=BATCH_SIZE, epochs=EPOCHS, \n",
    "                                validation_data=(val_x_merge, val_y_merge), callbacks=callbacks_merge)\n",
    "\n",
    "training_time = time.time() - start_time"
   ]
  },
  {
   "cell_type": "code",
   "execution_count": null,
   "id": "f2cbd11b",
   "metadata": {},
   "outputs": [],
   "source": [
    "# Evaluate model\n",
    "start_time = time.time()  # 추론 시작 시간\n",
    "predictions = model_merge.predict(test_x_merge)\n",
    "end_time = time.time()  # 추론 종료 시간\n",
    "total_inference_time = end_time - start_time\n",
    "average_inference_time = total_inference_time / len(test_x_merge)\n",
    "\n",
    "# 테스트 데이터에 대한 예측 결과 처리\n",
    "predicted_classes = np.argmax(predictions, axis=1)\n",
    "actual_classes = np.argmax(test_y_merge, axis=1)\n",
    "\n",
    "# 정확도 계산\n",
    "correct_predictions = np.sum(predicted_classes == actual_classes)\n",
    "accuracy = correct_predictions / len(predicted_classes)\n",
    "\n",
    "# 결과 출력\n",
    "print(f\"Correct Predictions: {correct_predictions}\")\n",
    "print(f\"Total Predictions: {len(predicted_classes)}\")\n",
    "print(f\"정확도: {accuracy:.2f}\")\n",
    "print(f\"훈련시간 : {training_time:.2f} seconds.\")\n",
    "print(f\"평균 추론 시간: {average_inference_time:.4f} seconds.\") #각 샘플에 대한 추론 시간을 개별적으로 측정함으로써, 추론에 필요한 시간을 더 정확히 파악"
   ]
  },
  {
   "cell_type": "markdown",
   "id": "6a638ffe",
   "metadata": {},
   "source": [
    "### hyperparameter 별 결과 (accuracy / training time / inference time)"
   ]
  },
  {
   "cell_type": "markdown",
   "id": "3ae84e05",
   "metadata": {},
   "source": [
    "#### batch_size = 64   &   learning_rate = 0.001"
   ]
  },
  {
   "cell_type": "markdown",
   "id": "ccfa7ca2",
   "metadata": {},
   "source": [
    "Correct Predictions: 105996  \n",
    "Total Predictions: 116322  \n",
    "정확도: 0.91  \n",
    "훈련시간 : 7323.24 seconds  \n",
    "평균 추론 시간: 0.0003 seconds  "
   ]
  },
  {
   "cell_type": "markdown",
   "id": "8df3d4d1",
   "metadata": {},
   "source": [
    "------------"
   ]
  },
  {
   "cell_type": "markdown",
   "id": "813b25c2",
   "metadata": {},
   "source": [
    "#### batch_size = 64   &   learning_rate = 0.01\n",
    "\n",
    "Correct Predictions: 105720  \n",
    "Total Predictions: 116322  \n",
    "정확도: 0.91  \n",
    "훈련시간 : 13358.46 seconds  \n",
    "평균 추론 시간: 0.0001 seconds  "
   ]
  },
  {
   "cell_type": "markdown",
   "id": "3f1530bd",
   "metadata": {},
   "source": [
    "------------"
   ]
  },
  {
   "cell_type": "markdown",
   "id": "26651fc4",
   "metadata": {},
   "source": [
    "#### batch_size = 128   &   learning_rate = 0.001\n",
    "\n",
    "Correct Predictions: 105642  \n",
    "Total Predictions: 116322  \n",
    "정확도: 0.91  \n",
    "훈련시간 : 4413.92 seconds.  \n",
    "평균 추론 시간: 0.0003 seconds.  "
   ]
  },
  {
   "cell_type": "markdown",
   "id": "c05bdc23",
   "metadata": {},
   "source": [
    "---------"
   ]
  },
  {
   "cell_type": "markdown",
   "id": "073ed77a",
   "metadata": {},
   "source": [
    "#### batch_size = 128   &   learning_rate = 0.01\n",
    "Correct Predictions: 105075  \n",
    "Total Predictions: 116322  \n",
    "정확도: 0.90  \n",
    "훈련시간 : 2858.69 seconds.  \n",
    "평균 추론 시간: 0.0002 seconds.  "
   ]
  },
  {
   "cell_type": "markdown",
   "id": "d53558e7",
   "metadata": {},
   "source": [
    "-----------\n",
    "----\n",
    "----"
   ]
  },
  {
   "cell_type": "markdown",
   "id": "b101162a",
   "metadata": {},
   "source": [
    "## ResNet(balanced)"
   ]
  },
  {
   "cell_type": "code",
   "execution_count": null,
   "id": "978914cf",
   "metadata": {},
   "outputs": [],
   "source": [
    "start_time = time.time()  # 학습 시작 시간\n",
    "\n",
    "# 모델 학습\n",
    "history_balance = model_balance.fit(train_x_balance, train_y_balance, batch_size=BATCH_SIZE, epochs=EPOCHS, \n",
    "                                validation_data=(val_x_balance, val_y_balance), callbacks=callbacks_balance)\n",
    "\n",
    "training_time = time.time() - start_time"
   ]
  },
  {
   "cell_type": "code",
   "execution_count": null,
   "id": "8f9ad94d",
   "metadata": {},
   "outputs": [],
   "source": [
    "# Evaluate model\n",
    "start_time = time.time()  # 추론 시작 시간\n",
    "predictions = model_balance.predict(test_x_balance)\n",
    "end_time = time.time()  # 추론 종료 시간\n",
    "total_inference_time = end_time - start_time\n",
    "average_inference_time = total_inference_time / len(test_x_balance)\n",
    "\n",
    "# 테스트 데이터에 대한 예측 결과 처리\n",
    "predicted_classes = np.argmax(predictions, axis=1)\n",
    "actual_classes = np.argmax(test_y_balance, axis=1)\n",
    "\n",
    "# 정확도 계산\n",
    "correct_predictions = np.sum(predicted_classes == actual_classes)\n",
    "accuracy = correct_predictions / len(predicted_classes)\n",
    "\n",
    "# 결과 출력\n",
    "print(f\"Correct Predictions: {correct_predictions}\")\n",
    "print(f\"Total Predictions: {len(predicted_classes)}\")\n",
    "print(f\"정확도: {accuracy:.2f}\")\n",
    "print(f\"훈련시간 : {training_time:.2f} seconds.\")\n",
    "print(f\"평균 추론 시간: {average_inference_time:.4f} seconds.\") #각 샘플에 대한 추론 시간을 개별적으로 측정함으로써, 추론에 필요한 시간을 더 정확히 파악"
   ]
  },
  {
   "cell_type": "markdown",
   "id": "79fec26b",
   "metadata": {},
   "source": [
    "### hyperparameter 별 결과 (accuracy / training time / inference time)"
   ]
  },
  {
   "cell_type": "markdown",
   "id": "2d8cc6d0",
   "metadata": {},
   "source": [
    "#### batch_size = 64   &   learning_rate = 0.001"
   ]
  },
  {
   "cell_type": "markdown",
   "id": "e6e84c21",
   "metadata": {},
   "source": [
    "Correct Predictions: 16919  \n",
    "Total Predictions: 18799  \n",
    "정확도: 0.90  \n",
    "훈련시간 : 1150.34 seconds  \n",
    "평균 추론 시간: 0.0002 seconds  "
   ]
  },
  {
   "cell_type": "markdown",
   "id": "2301dd83",
   "metadata": {},
   "source": [
    "------------"
   ]
  },
  {
   "cell_type": "markdown",
   "id": "3cd34f67",
   "metadata": {},
   "source": [
    "#### batch_size = 64   &   learning_rate = 0.01\n"
   ]
  },
  {
   "cell_type": "markdown",
   "id": "db898e1f",
   "metadata": {},
   "source": [
    "Correct Predictions: 16167  \n",
    "Total Predictions: 18799  \n",
    "정확도: 0.86  \n",
    "훈련시간 : 776.97 seconds  \n",
    "평균 추론 시간: 0.0012 seconds  "
   ]
  },
  {
   "cell_type": "markdown",
   "id": "e1a6100b",
   "metadata": {},
   "source": [
    "------------"
   ]
  },
  {
   "cell_type": "markdown",
   "id": "8f1667b4",
   "metadata": {},
   "source": [
    "#### batch_size = 128   &   learning_rate = 0.001\n",
    "\n",
    "Correct Predictions: 16845  \n",
    "Total Predictions: 18799  \n",
    "정확도: 0.90  \n",
    "훈련시간 : 1040.00 seconds.  \n",
    "평균 추론 시간: 0.0003 seconds.  "
   ]
  },
  {
   "cell_type": "markdown",
   "id": "49f23ec1",
   "metadata": {},
   "source": [
    "---------"
   ]
  },
  {
   "cell_type": "markdown",
   "id": "172252d1",
   "metadata": {},
   "source": [
    "#### batch_size = 128   &   learning_rate = 0.01\n",
    "Correct Predictions: 16645  \n",
    "Total Predictions: 18799  \n",
    "정확도: 0.89  \n",
    "훈련시간 : 1650.16 seconds.  \n",
    "평균 추론 시간: 0.0002 seconds.  "
   ]
  },
  {
   "cell_type": "markdown",
   "id": "9ad06b33",
   "metadata": {},
   "source": [
    "-----------\n",
    "----\n",
    "----"
   ]
  },
  {
   "cell_type": "markdown",
   "id": "a2656023",
   "metadata": {},
   "source": [
    "## Data augmentation "
   ]
  },
  {
   "cell_type": "markdown",
   "id": "6742a56e",
   "metadata": {},
   "source": [
    "|augmentation|rotation_range|width_shift_range|height_shift_range|\n",
    "|:--:|:--:|:--:|:--:|\n",
    "|augmentation 1|20|0.2|0.2|\n",
    "|augmentation 2|30|0.1|0.1|\n",
    "|augmentation 3|45|0.05|0.05|\n"
   ]
  },
  {
   "cell_type": "code",
   "execution_count": null,
   "id": "60b8eb34",
   "metadata": {},
   "outputs": [],
   "source": [
    "# 데이터 스케일링 (StandardScaler 사용)\n",
    "scaler = StandardScaler()\n",
    "\n",
    "img_generator = tf.keras.preprocessing.image.ImageDataGenerator(\n",
    "    rotation_range=20,\n",
    "    width_shift_range=0.2,\n",
    "    height_shift_range=0.2,\n",
    ")\n",
    "\n",
    "img_generator2 = tf.keras.preprocessing.image.ImageDataGenerator(\n",
    "    rotation_range=30,\n",
    "    width_shift_range=0.1,\n",
    "    height_shift_range=0.1,\n",
    ")\n",
    "\n",
    "img_generator3 = tf.keras.preprocessing.image.ImageDataGenerator(\n",
    "    rotation_range=45,\n",
    "    width_shift_range=0.05,\n",
    "    height_shift_range=0.05,\n",
    ")\n",
    "\n",
    "aug1_train_data = img_generator.flow(train_x_balance,train_y_balance, batch_size=len(train_x_balance))\n",
    "aug2_train_data = img_generator2.flow(train_x_balance,train_y_balance, batch_size=len(train_x_balance))\n",
    "aug3_train_data = img_generator3.flow(train_x_balance,train_y_balance, batch_size=len(train_x_balance))\n",
    "\n",
    "aug1_x,aug1_y = aug1_train_data.next()\n",
    "aug2_x,aug2_y = aug2_train_data.next()\n",
    "aug3_x,aug3_y = aug3_train_data.next()\n",
    "\n",
    "x_combined = np.concatenate((train_x_balance,aug1_x,aug2_x,aug3_x))\n",
    "y_combined = np.concatenate((train_y_balance,aug1_y,aug2_y,aug3_y))\n",
    "\n",
    "shuffle_index = np.random.permutation(len(x_combined))\n",
    "x_combined_shff = x_combined[shuffle_index]\n",
    "y_combined_shff = y_combined[shuffle_index]\n",
    "\n",
    "\n",
    "aug1_valid_data = img_generator.flow(val_x_balance,val_y_balance, batch_size=len(val_x_balance))\n",
    "aug2_valid_data = img_generator2.flow(val_x_balance,val_y_balance, batch_size=len(val_x_balance))\n",
    "aug3_valid_data = img_generator3.flow(val_x_balance,val_y_balance, batch_size=len(val_x_balance))\n",
    "\n",
    "aug1_val_x,aug1_val_y = aug1_valid_data.next()\n",
    "aug2_val_x,aug2_val_y = aug2_valid_data.next()\n",
    "aug3_val_x,aug3_val_y = aug3_valid_data.next()\n",
    "\n",
    "x_val_combined = np.concatenate((val_x_balance,aug1_val_x,aug2_val_x,aug3_val_x))\n",
    "y_val_combined = np.concatenate((val_y_balance,aug1_val_y,aug2_val_y,aug3_val_y))\n",
    "\n",
    "shuffle_index2 = np.random.permutation(len(x_val_combined))\n",
    "x_combined_val_shff = x_val_combined[shuffle_index2]\n",
    "y_combined_val_shff = y_val_combined[shuffle_index2]\n",
    "\n",
    "#이미지를 2D 배열로 변환\n",
    "n_samples, height, width, n_channels = x_combined_shff.shape\n",
    "x_combined_shff = x_combined_shff.reshape((n_samples, -1))\n",
    "\n",
    "# 학습 데이터 스케일러 학습 및 변환\n",
    "scaler.fit(x_combined_shff)\n",
    "x_combined_shff = scaler.transform(x_combined_shff)\n",
    "\n",
    "# 스케일된 데이터를 다시 원래 이미지 형태로 변환\n",
    "x_combined_shff = x_combined_shff.reshape((n_samples, height, width, n_channels))\n",
    "\n",
    "# 검증 데이터 동일한 스케일러로 변환\n",
    "n_val_samples = x_combined_val_shff.shape[0]\n",
    "x_combined_val_shff = x_combined_val_shff.reshape((n_val_samples, -1))\n",
    "x_combined_val_shff = scaler.transform(x_combined_val_shff)\n",
    "x_combined_val_shff = x_combined_val_shff.reshape((n_val_samples, height, width, n_channels))\n",
    "\n",
    "# 테스트 데이터 동일한 스케일로 변환\n",
    "n_val_samples = test_x_balance.shape[0]\n",
    "test_x_balance = test_x_balance.reshape((n_val_samples, -1))\n",
    "test_x_balance = scaler.transform(test_x_balance)\n",
    "test_x_balance = test_x_balance.reshape((n_val_samples, height, width, n_channels))"
   ]
  },
  {
   "cell_type": "markdown",
   "id": "9f39c4e8",
   "metadata": {},
   "source": [
    "### 변수명 변경\n",
    "train_x_balance  →  x_combined_shff  \n",
    "train_y_balance  →  y_combined_shff  \n",
    "val_x_balance  →  x_combined_val_shff  \n",
    "val_y_balance  →  y_combined_val_shff"
   ]
  },
  {
   "cell_type": "markdown",
   "id": "fc225d61",
   "metadata": {},
   "source": [
    "### LeNet"
   ]
  },
  {
   "cell_type": "code",
   "execution_count": null,
   "id": "11fc4493",
   "metadata": {},
   "outputs": [],
   "source": [
    "model_balance_aug = tf.keras.Sequential([\n",
    "    Conv2D(6, kernel_size=(5, 5), activation=DENSE_LAYER_ACTIVATION, input_shape=(28, 28, 1), padding='same'),\n",
    "    AveragePooling2D(),\n",
    "    Conv2D(16, kernel_size=(5, 5), activation=DENSE_LAYER_ACTIVATION),\n",
    "    AveragePooling2D(),\n",
    "    Flatten(),\n",
    "    Dense(120, activation=DENSE_LAYER_ACTIVATION),\n",
    "    Dense(84, activation=DENSE_LAYER_ACTIVATION),\n",
    "    Dense(number_of_classes, activation=FINAL_LAYER_ACTIVATION)\n",
    "])\n",
    "\n",
    "\n",
    "model_balance_aug.compile(optimizer=tf.keras.optimizers.Adam(learning_rate=LEARNING_RATE),\n",
    "              loss=LOSS_FUNCTION,\n",
    "              metrics=METRICS)\n",
    "\n",
    "\n",
    "callbacks_balance = [\n",
    "    ModelCheckpoint(CHECK_POINT_BALANCE_AUG, verbose=1, save_best_only=True, monitor='val_accuracy', mode='max'),\n",
    "    EarlyStopping(monitor='val_accuracy', restore_best_weights=True, patience=PATIENCE, mode='max'),\n",
    "    ReduceLROnPlateau(monitor='val_loss', patience=PATIENCE, factor=DECAY_FACTOR, min_lr=MIN_LEARNING_RATE)\n",
    "]\n"
   ]
  },
  {
   "cell_type": "code",
   "execution_count": null,
   "id": "f8c08a1e",
   "metadata": {},
   "outputs": [],
   "source": [
    "start_time = time.time()  # 학습 시작 시간\n",
    "\n",
    "# 모델 학습\n",
    "history_balance_aug = model_balance_aug.fit(x_combined_shff, y_combined_shff, batch_size=BATCH_SIZE, epochs=EPOCHS, \n",
    "                                validation_data=(x_combined_val_shff, y_combined_val_shff), callbacks=callbacks_balance)\n",
    "\n",
    "training_time = time.time() - start_time"
   ]
  },
  {
   "cell_type": "code",
   "execution_count": null,
   "id": "5a4c8de1",
   "metadata": {},
   "outputs": [],
   "source": [
    "# Evaluate model\n",
    "start_time = time.time()  # 추론 시작 시간\n",
    "predictions = model_balance_aug.predict(test_x_balance)\n",
    "end_time = time.time()  # 추론 종료 시간\n",
    "total_inference_time = end_time - start_time\n",
    "average_inference_time = total_inference_time / len(test_x_balance)\n",
    "\n",
    "# 테스트 데이터에 대한 예측 결과 처리\n",
    "predicted_classes = np.argmax(predictions, axis=1)\n",
    "actual_classes = np.argmax(test_y_balance, axis=1)\n",
    "\n",
    "# 정확도 계산\n",
    "correct_predictions = np.sum(predicted_classes == actual_classes)\n",
    "accuracy = correct_predictions / len(predicted_classes)\n",
    "\n",
    "# 결과 출력\n",
    "print(f\"Correct Predictions: {correct_predictions}\")\n",
    "print(f\"Total Predictions: {len(predicted_classes)}\")\n",
    "print(f\"정확도: {accuracy:.2f}\")\n",
    "print(f\"훈련시간 : {training_time:.2f} seconds.\")\n",
    "print(f\"평균 추론 시간: {average_inference_time:.5f} seconds.\")"
   ]
  },
  {
   "cell_type": "markdown",
   "id": "88109af3",
   "metadata": {},
   "source": [
    "Correct Predictions: 16425  \n",
    "Total Predictions: 18799  \n",
    "정확도: 0.87  \n",
    "훈련시간 : 2090.59 seconds.  \n",
    "평균 추론 시간: 0.00003 seconds.  "
   ]
  },
  {
   "cell_type": "markdown",
   "id": "d1ca1a12",
   "metadata": {},
   "source": [
    "-----------"
   ]
  },
  {
   "cell_type": "markdown",
   "id": "d37f751e",
   "metadata": {},
   "source": [
    "### ResNet"
   ]
  },
  {
   "cell_type": "code",
   "execution_count": null,
   "id": "514d2665",
   "metadata": {},
   "outputs": [],
   "source": [
    "base_model = ResNet50(weights=None, include_top=False, input_tensor=Input(shape=(28, 28, 1)))\n",
    "x = base_model.output\n",
    "x = GlobalAveragePooling2D()(x)\n",
    "x = Dense(120, activation=DENSE_LAYER_ACTIVATION)(x)\n",
    "x = Dense(84, activation=DENSE_LAYER_ACTIVATION)(x)\n",
    "output = Dense(number_of_classes, activation=FINAL_LAYER_ACTIVATION)(x)\n",
    "\n",
    "# 새로운 모델 정의\n",
    "model_balance_aug = Model(inputs=base_model.input, outputs=output)\n",
    "\n",
    "model_balance_aug.compile(optimizer=tf.keras.optimizers.Adam(learning_rate=LEARNING_RATE),\n",
    "              loss=LOSS_FUNCTION,\n",
    "              metrics=METRICS)\n",
    "\n",
    "\n",
    "callbacks_balance = [\n",
    "    ModelCheckpoint(CHECK_POINT_BALANCE, verbose=1, save_best_only=True, monitor='val_accuracy', mode='max'),\n",
    "    EarlyStopping(monitor='val_accuracy', restore_best_weights=True, patience=PATIENCE, mode='max'),\n",
    "    ReduceLROnPlateau(monitor='val_loss', patience=PATIENCE, factor=DECAY_FACTOR, min_lr=MIN_LEARNING_RATE)\n",
    "]\n"
   ]
  },
  {
   "cell_type": "code",
   "execution_count": null,
   "id": "ffba8434",
   "metadata": {},
   "outputs": [],
   "source": [
    "start_time = time.time()  # 학습 시작 시간\n",
    "\n",
    "# 모델 학습\n",
    "history_balance_aug = model_balance_aug.fit(x_combined_shff, y_combined_shff, batch_size=BATCH_SIZE, epochs=EPOCHS, \n",
    "                                validation_data=(x_combined_val_shff, y_combined_val_shff), callbacks=callbacks_balance)\n",
    "\n",
    "training_time = time.time() - start_time"
   ]
  },
  {
   "cell_type": "code",
   "execution_count": null,
   "id": "019123fa",
   "metadata": {},
   "outputs": [],
   "source": [
    "# Evaluate model\n",
    "start_time = time.time()  # 추론 시작 시간\n",
    "predictions = model_balance_aug.predict(test_x_balance)\n",
    "end_time = time.time()  # 추론 종료 시간\n",
    "total_inference_time = end_time - start_time\n",
    "average_inference_time = total_inference_time / len(test_x_balance)\n",
    "\n",
    "# 테스트 데이터에 대한 예측 결과 처리\n",
    "predicted_classes = np.argmax(predictions, axis=1)\n",
    "actual_classes = np.argmax(test_y_balance, axis=1)\n",
    "\n",
    "# 정확도 계산\n",
    "correct_predictions = np.sum(predicted_classes == actual_classes)\n",
    "accuracy = correct_predictions / len(predicted_classes)\n",
    "\n",
    "# 결과 출력\n",
    "print(f\"Correct Predictions: {correct_predictions}\")\n",
    "print(f\"Total Predictions: {len(predicted_classes)}\")\n",
    "print(f\"정확도: {accuracy:.2f}\")\n",
    "print(f\"훈련시간 : {training_time:.2f} seconds.\")\n",
    "print(f\"평균 추론 시간: {average_inference_time:.4f} seconds.\")"
   ]
  },
  {
   "cell_type": "markdown",
   "id": "dd43d238",
   "metadata": {},
   "source": [
    "Correct Predictions: 16882  \n",
    "Total Predictions: 18799  \n",
    "정확도: 0.90  \n",
    "훈련시간 : 2791.82 seconds.  \n",
    "평균 추론 시간: 0.0003 seconds.  "
   ]
  },
  {
   "cell_type": "markdown",
   "id": "8d053689",
   "metadata": {},
   "source": [
    "---\n",
    "---\n",
    "---"
   ]
  },
  {
   "cell_type": "markdown",
   "id": "a0243b73",
   "metadata": {},
   "source": [
    "## Pre-trained model training"
   ]
  },
  {
   "cell_type": "markdown",
   "id": "6847f17e",
   "metadata": {},
   "source": [
    "### ResNet-34"
   ]
  },
  {
   "cell_type": "code",
   "execution_count": null,
   "id": "7db4b4b9",
   "metadata": {},
   "outputs": [],
   "source": [
    "from functools import partial\n",
    "\n",
    "DefaultConv2D = partial(tf.keras.layers.Conv2D, kernel_size=3, strides=1,\n",
    "                        padding=\"same\", kernel_initializer=\"he_normal\",\n",
    "                        use_bias=False)\n",
    "\n",
    "# Residual Unit 정의\n",
    "class ResidualUnit(tf.keras.layers.Layer):\n",
    "    def __init__(self, filters, strides=1, activation=\"relu\", **kwargs):\n",
    "        super().__init__(**kwargs)\n",
    "        self.filters = filters\n",
    "        self.strides = strides\n",
    "        self.activation = tf.keras.activations.get(activation)\n",
    "        self.main_layers = [\n",
    "            DefaultConv2D(filters, strides=strides),\n",
    "            tf.keras.layers.BatchNormalization(),\n",
    "            Activation(self.activation),\n",
    "            DefaultConv2D(filters),\n",
    "            tf.keras.layers.BatchNormalization()\n",
    "        ]\n",
    "        self.skip_layers = []\n",
    "        if strides > 1:\n",
    "            self.skip_layers = [\n",
    "                DefaultConv2D(filters, kernel_size=1, strides=strides),\n",
    "                tf.keras.layers.BatchNormalization()\n",
    "            ]\n",
    "\n",
    "    def call(self, inputs):\n",
    "        Z = inputs\n",
    "        for layer in self.main_layers:\n",
    "            Z = layer(Z)\n",
    "        skip_Z = inputs\n",
    "        for layer in self.skip_layers:\n",
    "            skip_Z = layer(skip_Z)\n",
    "        return self.activation(Z + skip_Z)\n",
    "    \n",
    "    def get_config(self):\n",
    "        config = super().get_config().copy()\n",
    "        config.update({\n",
    "            'filters': self.filters,\n",
    "            'strides': self.strides,\n",
    "            'activation': tf.keras.activations.serialize(self.activation),\n",
    "        })\n",
    "        return config\n"
   ]
  },
  {
   "cell_type": "code",
   "execution_count": null,
   "id": "36c8ab8c",
   "metadata": {},
   "outputs": [],
   "source": [
    "# Define ResNet-34\n",
    "Resnet34 = tf.keras.Sequential([\n",
    "    DefaultConv2D(64, kernel_size=3, strides=1, input_shape=[28, 28, 1]), #FEATURE SIZE 유지\n",
    "    tf.keras.layers.BatchNormalization(),\n",
    "    tf.keras.layers.Activation(DENSE_LAYER_ACTIVATION),\n",
    "])\n",
    "prev_filters = 64\n",
    "for filters in [64] * 3 + [128] * 4 + [256] * 6 + [512] * 3:\n",
    "    strides = 1 if filters == prev_filters else 2\n",
    "    Resnet34.add(ResidualUnit(filters, strides=strides))\n",
    "    prev_filters = filters\n",
    "\n",
    "Resnet34.add(tf.keras.layers.GlobalAvgPool2D())\n",
    "Resnet34.add(tf.keras.layers.Flatten())\n",
    "Resnet34.add(tf.keras.layers.Dense(47, activation=FINAL_LAYER_ACTIVATION))"
   ]
  },
  {
   "cell_type": "code",
   "execution_count": null,
   "id": "7fca43c6",
   "metadata": {},
   "outputs": [],
   "source": [
    "Resnet34.compile(optimizer=tf.keras.optimizers.Adam(learning_rate=LEARNING_RATE),\n",
    "              loss=LOSS_FUNCTION,\n",
    "              metrics=METRICS)\n",
    "\n",
    "\n",
    "start_time = time.time() \n",
    "\n",
    "# 모델 학습\n",
    "history_balance = Resnet34.fit(train_x_balance, train_y_balance, batch_size=BATCH_SIZE, epochs=EPOCHS, \n",
    "                                validation_data=(val_x_balance, val_y_balance), callbacks=callbacks_balance)\n",
    "\n",
    "training_time = time.time() - start_time\n",
    "\n",
    "# Evaluate model\n",
    "start_time = time.time()  # 추론 시작 시간\n",
    "predictions = Resnet34.predict(test_x_balance)\n",
    "end_time = time.time()  # 추론 종료 시간\n",
    "total_inference_time = end_time - start_time\n",
    "average_inference_time = total_inference_time / len(test_x_balance)\n",
    "\n",
    "predicted_classes = np.argmax(predictions, axis=1)\n",
    "actual_classes = np.argmax(test_y_balance, axis=1)\n",
    "\n",
    "correct_predictions = np.sum(predicted_classes == actual_classes)\n",
    "accuracy = correct_predictions / len(predicted_classes)\n",
    "\n",
    "print(f\"Correct Predictions: {correct_predictions}\")\n",
    "print(f\"Total Predictions: {len(predicted_classes)}\")\n",
    "print(f\"정확도: {accuracy:.2f}\")\n",
    "print(f\"훈련시간 : {training_time:.2f} seconds.\")\n",
    "print(f\"평균 추론 시간: {average_inference_time:.4f} seconds.\")"
   ]
  },
  {
   "cell_type": "markdown",
   "id": "054fd8d2",
   "metadata": {},
   "source": [
    "Correct Predictions: 16820  \n",
    "Total Predictions: 18799  \n",
    "정확도: 0.89  \n",
    "훈련시간 : 1067.71 seconds.  \n",
    "평균 추론 시간: 0.0002 seconds.  "
   ]
  },
  {
   "cell_type": "markdown",
   "id": "e121386a",
   "metadata": {},
   "source": [
    "### DenseNet"
   ]
  },
  {
   "cell_type": "code",
   "execution_count": null,
   "id": "4fa9fd76",
   "metadata": {},
   "outputs": [],
   "source": [
    "# Define a simple DenseNet model\n",
    "def dense_block(x, blocks, name):\n",
    "    for i in range(blocks):\n",
    "        x = conv_block(x, 32, name=name + '_block' + str(i + 1))\n",
    "    return x\n",
    "\n",
    "def conv_block(x, growth_rate, name):\n",
    "    x1 = BatchNormalization(axis=3, epsilon=1.001e-5, name=name + '_0_bn')(x)\n",
    "    x1 = Activation('relu', name=name + '_0_relu')(x1)\n",
    "    x1 = Conv2D(4 * growth_rate, 1, use_bias=False, name=name + '_1_conv')(x1)\n",
    "    x1 = BatchNormalization(axis=3, epsilon=1.001e-5, name=name + '_1_bn')(x1)\n",
    "    x1 = Activation('relu', name=name + '_1_relu')(x1)\n",
    "    x1 = Conv2D(growth_rate, 3, padding='same', use_bias=False, name=name + '_2_conv')(x1)\n",
    "    x = Concatenate(axis=3, name=name + '_concat')([x, x1])\n",
    "    return x\n",
    "\n",
    "def transition_block(x, reduction, name):\n",
    "    x = BatchNormalization(axis=3, epsilon=1.001e-5, name=name + '_bn')(x)\n",
    "    x = Activation('relu', name=name + '_relu')(x)\n",
    "    x = Conv2D(int(tf.keras.backend.int_shape(x)[3] * reduction), 1, use_bias=False, name=name + '_conv')(x)\n",
    "    x = AveragePooling2D(1, strides=1, name=name + '_pool')(x)  # AveragePooling2D의 풀링 크기를 (1, 1)로 변경\n",
    "    return x\n",
    "\n",
    "def DenseNet(input_shape, classes):\n",
    "    inputs = Input(shape=input_shape)\n",
    "\n",
    "    x = Conv2D(64, 7, strides=2, use_bias=False, name='conv1/conv')(inputs)\n",
    "    x = BatchNormalization(axis=3, epsilon=1.001e-5, name='conv1/bn')(x)\n",
    "    x = Activation('relu', name='conv1/relu')(x)\n",
    "    x = AveragePooling2D(3, strides=2, name='pool1')(x)\n",
    "\n",
    "    x = dense_block(x, 6, name='conv2')\n",
    "    x = transition_block(x, 0.5, name='pool2')\n",
    "    x = dense_block(x, 12, name='conv3')\n",
    "    x = transition_block(x, 0.5, name='pool3')\n",
    "    x = dense_block(x, 24, name='conv4')\n",
    "    x = transition_block(x, 0.5, name='pool4')\n",
    "    x = dense_block(x, 16, name='conv5')\n",
    "\n",
    "    x = GlobalAveragePooling2D(name='avg_pool')(x)\n",
    "    outputs = Dense(classes, activation='softmax', name='fc')(x)\n",
    "\n",
    "    model = Model(inputs, outputs, name='densenet')\n",
    "\n",
    "    return model\n",
    "\n",
    "# Define model\n",
    "model = DenseNet((28, 28, 1), number_of_classes)\n"
   ]
  },
  {
   "cell_type": "markdown",
   "id": "0b80795e",
   "metadata": {},
   "source": [
    "Correct Predictions: 16741  \n",
    "Total Predictions: 18799  \n",
    "정확도: 0.89  \n",
    "훈련시간 : 3352.60 seconds.  \n",
    "평균 추론 시간: 0.0005 seconds.  "
   ]
  },
  {
   "cell_type": "markdown",
   "id": "f9440b8e",
   "metadata": {},
   "source": [
    "### EffcientNet"
   ]
  },
  {
   "cell_type": "code",
   "execution_count": null,
   "id": "a378d81e",
   "metadata": {},
   "outputs": [],
   "source": [
    "# 입력 레이어 정의\n",
    "input_tensor = Input(shape=(28, 28, 1))\n",
    "\n",
    "# EfficientNetB0 모델 불러오기 (최상위 레이어 제외)\n",
    "base_model = EfficientNetB0(weights=None, include_top=False, input_tensor=input_tensor)\n",
    "\n",
    "# GlobalAveragePooling2D 레이어 추가\n",
    "x = GlobalAveragePooling2D()(base_model.output)\n",
    "\n",
    "# 분류 레이어 추가 (47개 클래스)\n",
    "output_tensor = Dense(47, activation='softmax')(x)\n",
    "\n",
    "# 최종 모델 정의\n",
    "model = Model(inputs=input_tensor, outputs=output_tensor)"
   ]
  },
  {
   "cell_type": "markdown",
   "id": "86a41d38",
   "metadata": {},
   "source": [
    "Correct Predictions: 16737  \n",
    "Total Predictions: 18799  \n",
    "정확도: 0.8903  \n",
    "훈련시간 : 5942.75 seconds.  \n",
    "평균 추론 시간: 0.0004 seconds.  "
   ]
  },
  {
   "cell_type": "markdown",
   "id": "fa39b2dc",
   "metadata": {},
   "source": [
    "### MobileNet  "
   ]
  },
  {
   "cell_type": "code",
   "execution_count": null,
   "id": "4d69901d",
   "metadata": {},
   "outputs": [],
   "source": [
    "## 모델 최소 입력 크기를 맞추기 위한 padding 정의\n",
    "import numpy as np\n",
    "\n",
    "# Zero-padding 함수 정의\n",
    "def zero_pad_images(images, pad_height, pad_width):\n",
    "    padded_images = np.pad(images, ((0, 0), (pad_height, pad_height), (pad_width, pad_width), (0, 0)), mode='constant', constant_values=0)\n",
    "    return padded_images\n",
    "\n",
    "# Zero-padding 적용\n",
    "pad_height = 2  # 수직 방향으로 2 픽셀 패딩 추가\n",
    "pad_width = 2   # 수평 방향으로 2 픽셀 패딩 추가\n",
    "\n",
    "train_x_balanced = zero_pad_images(train_x_balanced, pad_height, pad_width)\n",
    "val_x_balanced = zero_pad_images(val_x_balanced, pad_height, pad_width)\n",
    "test_x_balanced = zero_pad_images(test_x_balanced, pad_height, pad_width)"
   ]
  },
  {
   "cell_type": "code",
   "execution_count": null,
   "id": "06bc943f",
   "metadata": {},
   "outputs": [],
   "source": [
    "base_model = tf.keras.applications.MobileNet(weights=None, include_top=False, input_shape=(32, 32, 1))\n",
    "x = base_model.output\n",
    "x = GlobalAveragePooling2D()(x)\n",
    "output = Dense(47, activation=FINAL_LAYER_ACTIVATION)(x)\n",
    "\n",
    "model = Model(inputs=base_model.input, outputs=output)"
   ]
  },
  {
   "cell_type": "markdown",
   "id": "ce2ffbaf",
   "metadata": {},
   "source": [
    "Correct Predictions: 16647  \n",
    "Total Predictions: 18799  \n",
    "정확도: 0.8855  \n",
    "훈련시간 : 1099.04 seconds.  \n",
    "평균 추론 시간: 0.0008 seconds.  "
   ]
  },
  {
   "cell_type": "markdown",
   "id": "bce69c36",
   "metadata": {},
   "source": [
    "---"
   ]
  },
  {
   "cell_type": "markdown",
   "id": "f022892b",
   "metadata": {},
   "source": [
    "#### pre-trained이용의 의의를 위해 (28,28,1) → (224,224,3) 변환 시도"
   ]
  },
  {
   "cell_type": "code",
   "execution_count": null,
   "id": "84738914",
   "metadata": {},
   "outputs": [],
   "source": [
    "import tensorflow as tf\n",
    "\n",
    "# Resizing 레이어 추가\n",
    "resizing_layer = tf.keras.layers.Resizing(height=224, width=224, crop_to_aspect_ratio=True)\n",
    "\n",
    "# MobileNet 모델 로드 (weights는 ImageNet의 가중치 사용, include_top은 fully connected layers 포함 여부)\n",
    "mobilenet_model = tf.keras.applications.MobileNet(weights=\"imagenet\", include_top=False)\n",
    "\n",
    "# Global Average Pooling 레이어 추가\n",
    "global_average_pooling_layer = tf.keras.layers.GlobalAveragePooling2D()\n",
    "\n",
    "# Classification을 위한 Dense 레이어 추가\n",
    "dense_layer = tf.keras.layers.Dense(units=47, activation='softmax')  # 분류 클래스 수에 맞게 units 설정\n",
    "\n",
    "# 모델 구성\n",
    "model = tf.keras.Sequential([\n",
    "    resizing_layer,\n",
    "    mobilenet_model,\n",
    "    global_average_pooling_layer,\n",
    "    dense_layer\n",
    "])\n",
    "\n",
    "# 모델 빌드\n",
    "model.build((None, 224, 224, 3))\n",
    "\n",
    "# 모델 요약\n",
    "model.summary()\n"
   ]
  },
  {
   "cell_type": "code",
   "execution_count": null,
   "id": "040505ee",
   "metadata": {},
   "outputs": [],
   "source": [
    "model2.compile(optimizer=tf.keras.optimizers.Adam(learning_rate=LEARNING_RATE),\n",
    "              loss=LOSS_FUNCTION,\n",
    "              metrics=METRICS)\n"
   ]
  },
  {
   "cell_type": "markdown",
   "id": "c8d03233",
   "metadata": {},
   "source": [
    "#### compile함수를 지원하지 않는 error 발생"
   ]
  },
  {
   "cell_type": "code",
   "execution_count": null,
   "id": "f074e96e",
   "metadata": {},
   "outputs": [],
   "source": [
    "---------------------------------------------------------------------------\n",
    "AttributeError                            Traceback (most recent call last)\n",
    "C:\\Users\\User\\AppData\\Local\\Temp\\ipykernel_20168\\374034419.py in <module>\n",
    "----> 1 model2.compile(optimizer=tf.keras.optimizers.Adam(learning_rate=LEARNING_RATE),\n",
    "      2               loss=LOSS_FUNCTION,\n",
    "      3               metrics=METRICS)\n",
    "\n",
    "AttributeError: 'Resizing' object has no attribute 'compile'"
   ]
  },
  {
   "cell_type": "markdown",
   "id": "b880bfa2",
   "metadata": {},
   "source": [
    "----\n",
    "---\n",
    "---"
   ]
  },
  {
   "cell_type": "markdown",
   "id": "c29f5e11",
   "metadata": {},
   "source": [
    "## Model Design"
   ]
  },
  {
   "cell_type": "markdown",
   "id": "2f875e49",
   "metadata": {},
   "source": [
    "### Model  1"
   ]
  },
  {
   "cell_type": "code",
   "execution_count": null,
   "id": "3e8a7780",
   "metadata": {},
   "outputs": [],
   "source": [
    "def Inception_residual_block(input_layer, f1, f2_conv1, f2_conv3, f3_conv1, f3_conv5, f4):\n",
    "    # 1st path: 1x1 Convolution\n",
    "    path1 = Conv2D(filters=f1, kernel_size=(1, 1), padding='same', activation='relu')(input_layer)\n",
    "\n",
    "    # 2nd path: 1x1 Convolution followed by 3x3 Convolution\n",
    "    path2 = Conv2D(filters=f2_conv1, kernel_size=(1, 1), padding='same', activation='relu')(input_layer)\n",
    "    path2 = Conv2D(filters=f2_conv3, kernel_size=(3, 3), padding='same', activation='relu')(path2)\n",
    "\n",
    "    # 3rd path: 1x1 Convolution followed by 5x5 Convolution\n",
    "    path3 = Conv2D(filters=f3_conv1, kernel_size=(1, 1), padding='same', activation='relu')(input_layer)\n",
    "    path3 = Conv2D(filters=f3_conv5, kernel_size=(5, 5), padding='same', activation='relu')(path3)\n",
    "\n",
    "    # 4th path: Max Pooling followed by 1x1 Convolution\n",
    "    path4 = MaxPooling2D(pool_size=(3, 3), strides=(1, 1), padding='same')(input_layer)\n",
    "    path4 = Conv2D(filters=f4, kernel_size=(1, 1), padding='same', activation='relu')(path4)\n",
    "\n",
    "    # Concatenate all paths\n",
    "    output_layer = concatenate([path1, path2, path3, path4], axis=-1)\n",
    "\n",
    "    # Residual connection: match dimensions of input and output if necessary\n",
    "    if input_layer.shape[-1] != output_layer.shape[-1]:\n",
    "        input_layer = Conv2D(filters=output_layer.shape[-1], kernel_size=(1, 1), padding='same')(input_layer)\n",
    "\n",
    "    # Add the input layer to the output layer\n",
    "    output_layer = add([input_layer, output_layer])\n",
    "    output_layer = Activation('relu')(output_layer)\n",
    "\n",
    "    return output_layer\n",
    "\n",
    "# Example of usage\n",
    "input_layer = tf.keras.layers.Input(shape=(28, 28, 1))\n",
    "X = Conv2D(filters=64, kernel_size=(5, 5), strides=2, padding='valid', activation='relu')(input_layer)\n",
    "X = MaxPooling2D(pool_size=(2,2), strides=2)(X)\n",
    "X = Inception_residual_block(X, f1=64, f2_conv1=96, f2_conv3=128, f3_conv1=16, f3_conv5=32, f4=32)\n",
    "X = Inception_residual_block(X, f1=160, f2_conv1=112, f2_conv3=224, f3_conv1=24, f3_conv5=64, f4=64)\n",
    "X = Inception_residual_block(X, f1=128, f2_conv1=128, f2_conv3=256, f3_conv1=24, f3_conv5=64, f4=64)\n",
    "X = Inception_residual_block(X, f1=112, f2_conv1=144, f2_conv3=288, f3_conv1=32, f3_conv5=64, f4=64)\n",
    "# Global Average pooling layer\n",
    "X = GlobalAveragePooling2D(name='GAPL')(X)\n",
    "# Dropout layer\n",
    "X = Dropout(0.4)(X)\n",
    "# Output layer\n",
    "output_layer = Dense(47, activation='softmax')(X)\n",
    "model = tf.keras.models.Model(inputs=input_layer, outputs=output_layer)"
   ]
  },
  {
   "cell_type": "code",
   "execution_count": null,
   "id": "2e470607",
   "metadata": {},
   "outputs": [],
   "source": [
    "model.compile(optimizer=tf.keras.optimizers.Adam(learning_rate=LEARNING_RATE),\n",
    "              loss=LOSS_FUNCTION,\n",
    "              metrics=METRICS)\n",
    "\n",
    "\n",
    "start_time = time.time() \n",
    "\n",
    "# 모델 학습\n",
    "history_balance = model.fit(train_x_balance, train_y_balance, batch_size=BATCH_SIZE, epochs=EPOCHS, \n",
    "                                validation_data=(val_x_balance, val_y_balance), callbacks=callbacks_balance)\n",
    "\n",
    "training_time = time.time() - start_time\n",
    "\n",
    "# Evaluate model\n",
    "start_time = time.time()  # 추론 시작 시간\n",
    "predictions = model.predict(test_x_balance)\n",
    "end_time = time.time()  # 추론 종료 시간\n",
    "total_inference_time = end_time - start_time\n",
    "average_inference_time = total_inference_time / len(test_x_balance)\n",
    "\n",
    "predicted_classes = np.argmax(predictions, axis=1)\n",
    "actual_classes = np.argmax(test_y_balance, axis=1)\n",
    "\n",
    "correct_predictions = np.sum(predicted_classes == actual_classes)\n",
    "accuracy = correct_predictions / len(predicted_classes)\n",
    "\n",
    "print(f\"Correct Predictions: {correct_predictions}\")\n",
    "print(f\"Total Predictions: {len(predicted_classes)}\")\n",
    "print(f\"정확도: {accuracy:.2f}\")\n",
    "print(f\"훈련시간 : {training_time:.2f} seconds.\")\n",
    "print(f\"평균 추론 시간: {average_inference_time:.4f} seconds.\")"
   ]
  },
  {
   "cell_type": "markdown",
   "id": "8c01ed70",
   "metadata": {},
   "source": [
    "Correct Predictions: 16861  \n",
    "Total Predictions: 18799  \n",
    "정확도: 0.90  \n",
    "훈련시간 : 1674.95 seconds.  \n",
    "평균 추론 시간: 0.0002 seconds.  "
   ]
  },
  {
   "cell_type": "markdown",
   "id": "c5b9764f",
   "metadata": {},
   "source": [
    "### Model 2"
   ]
  },
  {
   "cell_type": "code",
   "execution_count": null,
   "id": "87292c57",
   "metadata": {},
   "outputs": [],
   "source": [
    "def Inception_block(input_layer, f1, f2_conv1, f2_conv3, f3_conv1, f3_conv5, f4):\n",
    "    # 1st path: 1x1 Convolution\n",
    "    path1 = Conv2D(filters=f1, kernel_size=(1, 1), padding='same', activation='relu')(input_layer)\n",
    "\n",
    "    # 2nd path: 1x1 Convolution followed by 3x3 Convolution\n",
    "    path2 = Conv2D(filters=f2_conv1, kernel_size=(1, 1), padding='same', activation='relu')(input_layer)\n",
    "    path2 = Conv2D(filters=f2_conv3, kernel_size=(3, 3), padding='same', activation='relu')(path2)\n",
    "\n",
    "    # 3rd path: 1x1 Convolution followed by 5x5 Convolution\n",
    "    path3 = Conv2D(filters=f3_conv1, kernel_size=(1, 1), padding='same', activation='relu')(input_layer)\n",
    "    path3 = Conv2D(filters=f3_conv5, kernel_size=(5, 5), padding='same', activation='relu')(path3)\n",
    "\n",
    "    # 4th path: Max Pooling followed by 1x1 Convolution\n",
    "    path4 = MaxPooling2D(pool_size=(3, 3), strides=(1, 1), padding='same')(input_layer)\n",
    "    path4 = Conv2D(filters=f4, kernel_size=(1, 1), padding='same', activation='relu')(path4)\n",
    "\n",
    "    # Concatenate all paths\n",
    "    output_layer = concatenate([path1, path2, path3, path4], axis=-1)\n",
    "\n",
    "    return output_layer\n",
    "\n",
    "# Example of usage\n",
    "input_layer = tf.keras.layers.Input(shape=(28, 28, 1))\n",
    "X = Conv2D(filters=64, kernel_size=(5, 5), strides=2, padding='valid', activation='relu')(input_layer)\n",
    "X = MaxPooling2D(pool_size=(2,2), strides=2)(X)\n",
    "X = Inception_residual_block(X, f1=64, f2_conv1=96, f2_conv3=128, f3_conv1=16, f3_conv5=32, f4=32)\n",
    "X = Inception_residual_block(X, f1=160, f2_conv1=112, f2_conv3=224, f3_conv1=24, f3_conv5=64, f4=64)\n",
    "X = Inception_residual_block(X, f1=128, f2_conv1=128, f2_conv3=256, f3_conv1=24, f3_conv5=64, f4=64)\n",
    "X = Inception_residual_block(X, f1=112, f2_conv1=144, f2_conv3=288, f3_conv1=32, f3_conv5=64, f4=64)\n",
    "# Global Average pooling layer\n",
    "X = GlobalAveragePooling2D(name='GAPL')(X)\n",
    "# Dropout layer\n",
    "X = Dropout(0.4)(X)\n",
    "# Output layer\n",
    "output_layer = Dense(47, activation='softmax')(X)\n",
    "model = tf.keras.models.Model(inputs=input_layer, outputs=output_layer)"
   ]
  },
  {
   "cell_type": "markdown",
   "id": "e49fd1b8",
   "metadata": {},
   "source": [
    "Correct Predictions: 16784  \n",
    "Total Predictions: 18799  \n",
    "정확도: 0.89  \n",
    "훈련시간 : 1300.10 seconds.  \n",
    "평균 추론 시간: 0.0002 seconds.  "
   ]
  },
  {
   "cell_type": "markdown",
   "id": "d0486dde",
   "metadata": {},
   "source": [
    "### Model 3"
   ]
  },
  {
   "cell_type": "code",
   "execution_count": null,
   "id": "578bfeee",
   "metadata": {},
   "outputs": [],
   "source": [
    "model = tf.keras.Sequential([\n",
    "    Conv2D(16, kernel_size=(5, 5), activation=DENSE_LAYER_ACTIVATION, input_shape=(28, 28, 1), padding='same'),\n",
    "    AveragePooling2D(),\n",
    "    Conv2D(32, kernel_size=(5, 5), activation=DENSE_LAYER_ACTIVATION, padding='same'),\n",
    "    BatchNormalization(),\n",
    "    AveragePooling2D(),\n",
    "    Conv2D(64, kernel_size=(5, 5), activation=DENSE_LAYER_ACTIVATION, padding='same'),\n",
    "    BatchNormalization(),\n",
    "    AveragePooling2D(),\n",
    "    Conv2D(128, kernel_size=(5, 5), activation=DENSE_LAYER_ACTIVATION, padding='same'),\n",
    "    BatchNormalization(),\n",
    "    AveragePooling2D(pool_size=(1, 1)),\n",
    "    Flatten(),\n",
    "    Dense(128, activation=DENSE_LAYER_ACTIVATION),\n",
    "    Dropout(0.5),\n",
    "    Dense(number_of_classes, activation=FINAL_LAYER_ACTIVATION)\n",
    "])"
   ]
  },
  {
   "cell_type": "markdown",
   "id": "97201068",
   "metadata": {},
   "source": [
    "Correct Predictions: 16773  \n",
    "Total Predictions: 18799  \n",
    "정확도: 0.8922  \n",
    "훈련시간 : 360.5077 seconds.  \n",
    "평균 추론 시간: 0.00003 seconds.  "
   ]
  },
  {
   "cell_type": "markdown",
   "id": "f82f4a02",
   "metadata": {},
   "source": [
    "### Model 4"
   ]
  },
  {
   "cell_type": "code",
   "execution_count": null,
   "id": "8f8c02ac",
   "metadata": {},
   "outputs": [],
   "source": [
    "DefaultConv2D = partial(tf.keras.layers.Conv2D, kernel_size=3, strides=1,\n",
    "                        padding=\"same\", kernel_initializer=\"he_normal\",\n",
    "                        use_bias=False)\n",
    "\n",
    "model = tf.keras.Sequential([\n",
    "    DefaultConv2D(64,kernel_size = 5, input_shape=[28, 28, 1]),\n",
    "    tf.keras.layers.BatchNormalization(),\n",
    "    tf.keras.layers.Activation(\"relu\"),\n",
    "    tf.keras.layers.MaxPool2D(pool_size=2, strides=2, padding=\"same\"),\n",
    "    DefaultConv2D(64,kernel_size = 5), \n",
    "    tf.keras.layers.BatchNormalization(),\n",
    "    tf.keras.layers.Activation(\"relu\"),\n",
    "    tf.keras.layers.MaxPool2D(pool_size=2, strides=2, padding=\"same\"),\n",
    "])\n",
    "\n",
    "model.add(tf.keras.layers.Flatten())\n",
    "model.add(tf.keras.layers.Dense(200, activation=\"relu\"))\n",
    "model.add(tf.keras.layers.Dropout(0.4))\n",
    "model.add(tf.keras.layers.Dense(47, activation=\"softmax\"))"
   ]
  },
  {
   "cell_type": "markdown",
   "id": "bab53d10",
   "metadata": {},
   "source": [
    "Correct Predictions: 16729  \n",
    "Total Predictions: 18799  \n",
    "정확도: 0.8899  \n",
    "훈련시간 : 422.59 seconds.  \n",
    "평균 추론 시간: 0.0001 seconds.  "
   ]
  },
  {
   "cell_type": "markdown",
   "id": "27c90eb6",
   "metadata": {},
   "source": [
    "## Optimiztion of proposed model"
   ]
  },
  {
   "cell_type": "markdown",
   "id": "8c2d1965",
   "metadata": {},
   "source": [
    "### 기본 모델 구성"
   ]
  },
  {
   "cell_type": "code",
   "execution_count": null,
   "id": "2d781c63",
   "metadata": {},
   "outputs": [],
   "source": [
    "model = tf.keras.Sequential([\n",
    "    Conv2D(16, kernel_size=(5, 5), activation=DENSE_LAYER_ACTIVATION, input_shape=(28, 28, 1), padding='same'),\n",
    "    AveragePooling2D(),\n",
    "    Conv2D(32, kernel_size=(5, 5), activation=DENSE_LAYER_ACTIVATION, padding='same'),\n",
    "    BatchNormalization(),\n",
    "    AveragePooling2D(),\n",
    "    Conv2D(64, kernel_size=(5, 5), activation=DENSE_LAYER_ACTIVATION, padding='same'),\n",
    "    BatchNormalization(),\n",
    "    AveragePooling2D(),\n",
    "    Conv2D(128, kernel_size=(5, 5), activation=DENSE_LAYER_ACTIVATION, padding='same'),\n",
    "    BatchNormalization(),\n",
    "    AveragePooling2D(pool_size=(1, 1)),\n",
    "    Flatten(),\n",
    "    Dense(128, activation=DENSE_LAYER_ACTIVATION),\n",
    "    Dropout(0.5),\n",
    "    Dense(number_of_classes, activation=FINAL_LAYER_ACTIVATION)\n",
    "])"
   ]
  },
  {
   "cell_type": "code",
   "execution_count": null,
   "id": "ca083180",
   "metadata": {},
   "outputs": [],
   "source": [
    "model.compile(optimizer=optimizer,\n",
    "            loss=LOSS_FUNCTION,\n",
    "            metrics=METRICS)\n",
    "\n",
    "callbacks_balance = [\n",
    "    ModelCheckpoint(CHECK_POINT_BALANCE, verbose=1, save_best_only=True, monitor='val_accuracy', mode='max'),\n",
    "    EarlyStopping(monitor='val_accuracy', restore_best_weights=True, patience=PATIENCE, mode='max'),\n",
    "    ReduceLROnPlateau(monitor='val_loss', patience=3, factor=DECAY_FACTOR, min_lr=MIN_LEARNING_RATE)\n",
    "]\n",
    "\n",
    "start_time = time.time()\n",
    "history_balance = model.fit(train_x_balance, train_y_balance, batch_size=BATCH_SIZE, epochs=EPOCHS, \n",
    "                                validation_data=(val_x_balance, val_y_balance), callbacks=callbacks_balance)\n",
    "training_time = time.time() - start_time"
   ]
  },
  {
   "cell_type": "code",
   "execution_count": null,
   "id": "428c0fe3",
   "metadata": {},
   "outputs": [],
   "source": [
    "start_time = time.time()  \n",
    "predictions = model.predict(test_x_balance)\n",
    "end_time = time.time()  \n",
    "total_inference_time = end_time - start_time\n",
    "average_inference_time = total_inference_time / len(test_x_balance)\n",
    "\n",
    "predicted_classes = np.argmax(predictions, axis=1)\n",
    "actual_classes = np.argmax(test_y_balance, axis=1)\n",
    "\n",
    "correct_predictions = np.sum(predicted_classes == actual_classes)\n",
    "accuracy = correct_predictions / len(predicted_classes)\n",
    "\n",
    "print(f\"Correct Predictions: {correct_predictions}\")\n",
    "print(f\"Total Predictions: {len(predicted_classes)}\")\n",
    "print(f\"정확도: {accuracy:.4f}\")\n",
    "print(f\"훈련시간 : {training_time:.2f} seconds.\")\n",
    "print(f\"평균 추론 시간: {average_inference_time:.4f} seconds.\")"
   ]
  },
  {
   "cell_type": "markdown",
   "id": "c17f1279",
   "metadata": {},
   "source": [
    "### Learning Rate 0.0005로 변경"
   ]
  },
  {
   "cell_type": "code",
   "execution_count": null,
   "id": "73692c17",
   "metadata": {},
   "outputs": [],
   "source": [
    "BATCH_SIZE = 32\n",
    "EPOCHS = 100\n",
    "VALIDATION_SPLIT = 0.15\n",
    "LEARNING_RATE = 0.0005\n",
    "PATIENCE = 10\n",
    "MIN_LEARNING_RATE = 0.0001\n",
    "DECAY_FACTOR = 0.2\n",
    "DENSE_LAYER_ACTIVATION = 'elu'\n",
    "FINAL_LAYER_ACTIVATION = 'softmax'\n",
    "LOSS_FUNCTION = 'categorical_crossentropy'\n",
    "METRICS = ['accuracy']\n",
    "optimizer = Adam(learning_rate=LEARNING_RATE)\n",
    "CHECK_POINT_BALANCE = 'Best_points.h'"
   ]
  },
  {
   "cell_type": "markdown",
   "id": "81333ba3",
   "metadata": {},
   "source": [
    "Correct Predictions: 16672  \n",
    "Total Predictions: 18799  \n",
    "정확도: 0.8869  \n",
    "훈련시간 : 215.81 seconds  \n",
    "평균 추론 시간: 0.0000 seconds  "
   ]
  },
  {
   "cell_type": "markdown",
   "id": "dcdbe0ed",
   "metadata": {},
   "source": [
    "### MIN_LEARNING_RATE 변경"
   ]
  },
  {
   "cell_type": "code",
   "execution_count": null,
   "id": "ba132866",
   "metadata": {},
   "outputs": [],
   "source": [
    "BATCH_SIZE = 32\n",
    "EPOCHS = 100\n",
    "VALIDATION_SPLIT = 0.15\n",
    "LEARNING_RATE = 0.0005\n",
    "PATIENCE = 10\n",
    "MIN_LEARNING_RATE = 0.00001\n",
    "DECAY_FACTOR = 0.2\n",
    "DENSE_LAYER_ACTIVATION = 'elu'\n",
    "FINAL_LAYER_ACTIVATION = 'softmax'\n",
    "LOSS_FUNCTION = 'categorical_crossentropy'\n",
    "METRICS = ['accuracy']\n",
    "optimizer = Adam(learning_rate=LEARNING_RATE)\n",
    "CHECK_POINT_BALANCE = 'Best_points.h'"
   ]
  },
  {
   "cell_type": "markdown",
   "id": "bb704d2b",
   "metadata": {},
   "source": [
    "Correct Predictions: 16546  \n",
    "Total Predictions: 18799  \n",
    "정확도: 0.8802  \n",
    "훈련시간 : 372.93 seconds  \n",
    "평균 추론 시간: 0.0001 seconds  "
   ]
  },
  {
   "cell_type": "markdown",
   "id": "19f614c3",
   "metadata": {},
   "source": [
    "### Batch Size 64로 변경"
   ]
  },
  {
   "cell_type": "code",
   "execution_count": null,
   "id": "ffdcd4d8",
   "metadata": {},
   "outputs": [],
   "source": [
    "BATCH_SIZE = 64\n",
    "EPOCHS = 100\n",
    "VALIDATION_SPLIT = 0.15\n",
    "LEARNING_RATE = 0.0005\n",
    "PATIENCE = 10\n",
    "MIN_LEARNING_RATE = 0.0001\n",
    "DECAY_FACTOR = 0.2\n",
    "DENSE_LAYER_ACTIVATION = 'elu'\n",
    "FINAL_LAYER_ACTIVATION = 'softmax'\n",
    "LOSS_FUNCTION = 'categorical_crossentropy'\n",
    "METRICS = ['accuracy']\n",
    "optimizer = Adam(learning_rate=LEARNING_RATE)\n",
    "CHECK_POINT_BALANCE = 'Best_points.h'"
   ]
  },
  {
   "cell_type": "markdown",
   "id": "762017c2",
   "metadata": {},
   "source": [
    "Correct Predictions: 16344  \n",
    "Total Predictions: 18799  \n",
    "정확도: 0.8694  \n",
    "훈련시간 : 401.15 seconds  \n",
    "평균 추론 시간: 0.0000 seconds  "
   ]
  },
  {
   "cell_type": "markdown",
   "id": "73bf9784",
   "metadata": {},
   "source": [
    "### MaxPooling으로 변경"
   ]
  },
  {
   "cell_type": "code",
   "execution_count": null,
   "id": "2f7c8ff0",
   "metadata": {},
   "outputs": [],
   "source": [
    "model = tf.keras.Sequential([\n",
    "    Conv2D(16, kernel_size=(5, 5), activation=DENSE_LAYER_ACTIVATION, input_shape=(28, 28, 1), padding='same'),\n",
    "    MaxPooling2D(),\n",
    "    # Conv2D(16, kernel_size=(3, 3), activation=DENSE_LAYER_ACTIVATION, padding='same'),\n",
    "    # BatchNormalization(),\n",
    "    # AveragePooling2D(),\n",
    "    Conv2D(32, kernel_size=(5, 5), activation=DENSE_LAYER_ACTIVATION, padding='same'),\n",
    "    BatchNormalization(),\n",
    "    MaxPooling2D(),\n",
    "    Conv2D(64, kernel_size=(5, 5), activation=DENSE_LAYER_ACTIVATION, padding='same'),\n",
    "    BatchNormalization(),\n",
    "    MaxPooling2D(),\n",
    "    Conv2D(128, kernel_size=(5, 5), activation=DENSE_LAYER_ACTIVATION, padding='same'),\n",
    "    BatchNormalization(),\n",
    "    MaxPooling2D(pool_size=(1, 1)),\n",
    "    Flatten(),\n",
    "    Dense(128, activation=DENSE_LAYER_ACTIVATION),\n",
    "    Dropout(0.5),\n",
    "    Dense(number_of_classes, activation=FINAL_LAYER_ACTIVATION)\n",
    "])"
   ]
  },
  {
   "cell_type": "markdown",
   "id": "4769f6bc",
   "metadata": {},
   "source": [
    "Correct Predictions: 16596  \n",
    "Total Predictions: 18799  \n",
    "정확도: 0.8828  \n",
    "훈련시간 : 583.83 seconds  \n",
    "평균 추론 시간: 0.0000 seconds  "
   ]
  },
  {
   "cell_type": "markdown",
   "id": "0de7e7ac",
   "metadata": {},
   "source": [
    "### SGD로 변경"
   ]
  },
  {
   "cell_type": "code",
   "execution_count": null,
   "id": "c8d2c137",
   "metadata": {},
   "outputs": [],
   "source": [
    "BATCH_SIZE = 32\n",
    "EPOCHS = 100\n",
    "VALIDATION_SPLIT = 0.15\n",
    "LEARNING_RATE = 0.0005\n",
    "PATIENCE = 10\n",
    "MIN_LEARNING_RATE = 0.0001\n",
    "DECAY_FACTOR = 0.2\n",
    "DENSE_LAYER_ACTIVATION = 'elu'\n",
    "FINAL_LAYER_ACTIVATION = 'softmax'\n",
    "LOSS_FUNCTION = 'categorical_crossentropy'\n",
    "METRICS = ['accuracy']\n",
    "optimizer = SGD(learning_rate=LEARNING_RATE)\n",
    "CHECK_POINT_BALANCE = 'Best_points.h'"
   ]
  },
  {
   "cell_type": "markdown",
   "id": "5e3f4847",
   "metadata": {},
   "source": [
    "Correct Predictions: 16605  \n",
    "Total Predictions: 18799  \n",
    "정확도: 0.8833  \n",
    "훈련시간 : 672.70 seconds  \n",
    "평균 추론 시간: 0.0000 seconds  "
   ]
  },
  {
   "cell_type": "markdown",
   "id": "9c1e2031",
   "metadata": {},
   "source": [
    "### Data augmentation 사용"
   ]
  },
  {
   "cell_type": "code",
   "execution_count": null,
   "id": "27f89c38",
   "metadata": {},
   "outputs": [],
   "source": [
    "BATCH_SIZE = 32\n",
    "EPOCHS = 100\n",
    "VALIDATION_SPLIT = 0.15\n",
    "LEARNING_RATE = 0.0001\n",
    "PATIENCE = 10\n",
    "MIN_LEARNING_RATE = 0.00001\n",
    "DECAY_FACTOR = 0.2\n",
    "DENSE_LAYER_ACTIVATION = 'elu'\n",
    "FINAL_LAYER_ACTIVATION = 'softmax'\n",
    "LOSS_FUNCTION = 'categorical_crossentropy'\n",
    "METRICS = ['accuracy']\n",
    "optimizer = Adam(learning_rate=LEARNING_RATE)\n",
    "CHECK_POINT_BALANCE = 'Best_points.h'"
   ]
  },
  {
   "cell_type": "code",
   "execution_count": null,
   "id": "616573ff",
   "metadata": {},
   "outputs": [],
   "source": [
    "history_balance = model.fit(x_combined_shff, y_combined_shff, batch_size=BATCH_SIZE, epochs=EPOCHS, \n",
    "                                validation_data=(x_combined_val_shff, y_combined_val_shff), callbacks=callbacks_balance)"
   ]
  },
  {
   "cell_type": "markdown",
   "id": "ba5455c3",
   "metadata": {},
   "source": [
    "Correct Predictions: 16845  \n",
    "Total Predictions: 18799  \n",
    "정확도: 0.8961  \n",
    "훈련시간 : 914.54 seconds  \n",
    "평균 추론 시간: 0.0000 seconds  "
   ]
  },
  {
   "cell_type": "markdown",
   "id": "bb4d08af",
   "metadata": {},
   "source": [
    "### Tanh로 변경"
   ]
  },
  {
   "cell_type": "code",
   "execution_count": null,
   "id": "9a274e8f",
   "metadata": {},
   "outputs": [],
   "source": [
    "BATCH_SIZE = 32\n",
    "EPOCHS = 100\n",
    "VALIDATION_SPLIT = 0.15\n",
    "LEARNING_RATE = 0.0001\n",
    "PATIENCE = 10\n",
    "MIN_LEARNING_RATE = 0.00001\n",
    "DECAY_FACTOR = 0.2\n",
    "DENSE_LAYER_ACTIVATION = 'tanh'\n",
    "FINAL_LAYER_ACTIVATION = 'softmax'\n",
    "LOSS_FUNCTION = 'categorical_crossentropy'\n",
    "METRICS = ['accuracy']\n",
    "optimizer = Adam(learning_rate=LEARNING_RATE)\n",
    "CHECK_POINT_BALANCE = 'Best_points.h'"
   ]
  },
  {
   "cell_type": "markdown",
   "id": "8b3382b8",
   "metadata": {},
   "source": [
    "Correct Predictions: 16587  \n",
    "Total Predictions: 18799  \n",
    "정확도: 0.8823  \n",
    "훈련시간 : 286.88 seconds  \n",
    "평균 추론 시간: 0.0000 seconds  "
   ]
  },
  {
   "cell_type": "markdown",
   "id": "213247d3",
   "metadata": {},
   "source": [
    "### Relu로 변경[Data augmentation X]"
   ]
  },
  {
   "cell_type": "code",
   "execution_count": null,
   "id": "f9994005",
   "metadata": {},
   "outputs": [],
   "source": [
    "BATCH_SIZE = 32\n",
    "EPOCHS = 100\n",
    "VALIDATION_SPLIT = 0.15\n",
    "LEARNING_RATE = 0.0001\n",
    "PATIENCE = 10\n",
    "MIN_LEARNING_RATE = 0.00001\n",
    "DECAY_FACTOR = 0.2\n",
    "DENSE_LAYER_ACTIVATION = 'relu'\n",
    "FINAL_LAYER_ACTIVATION = 'softmax'\n",
    "LOSS_FUNCTION = 'categorical_crossentropy'\n",
    "METRICS = ['accuracy']\n",
    "optimizer = Adam(learning_rate=LEARNING_RATE)\n",
    "CHECK_POINT_BALANCE = 'Best_points.h'"
   ]
  },
  {
   "cell_type": "markdown",
   "id": "29796ffe",
   "metadata": {},
   "source": [
    "Correct Predictions: 16612  \n",
    "Total Predictions: 18799  \n",
    "정확도: 0.8837  \n",
    "훈련시간 : 813.88 seconds  \n",
    "평균 추론 시간: 0.0000 seconds  "
   ]
  },
  {
   "cell_type": "markdown",
   "id": "e5ffe93e",
   "metadata": {},
   "source": [
    "### Relu로 변경[Data augmentation]"
   ]
  },
  {
   "cell_type": "markdown",
   "id": "f0a37369",
   "metadata": {},
   "source": [
    "Correct Predictions: 16832  \n",
    "Total Predictions: 18799  \n",
    "정확도: 0.8954  \n",
    "훈련시간 : 813.88 seconds.  \n",
    "평균 추론 시간: 0.0000 seconds  "
   ]
  },
  {
   "cell_type": "markdown",
   "id": "dacc5550",
   "metadata": {},
   "source": [
    "## Final model"
   ]
  },
  {
   "cell_type": "code",
   "execution_count": null,
   "id": "50353a32",
   "metadata": {},
   "outputs": [],
   "source": [
    "BATCH_SIZE = 32\n",
    "EPOCHS = 100\n",
    "VALIDATION_SPLIT = 0.15\n",
    "LEARNING_RATE = 0.0001\n",
    "PATIENCE = 10\n",
    "MIN_LEARNING_RATE = 0.00001\n",
    "DECAY_FACTOR = 0.2\n",
    "DENSE_LAYER_ACTIVATION = 'elu'\n",
    "FINAL_LAYER_ACTIVATION = 'softmax'\n",
    "LOSS_FUNCTION = 'categorical_crossentropy'\n",
    "METRICS = ['accuracy']\n",
    "optimizer = Adam(learning_rate=LEARNING_RATE)\n",
    "CHECK_POINT_BALANCE = 'Best_points.h'"
   ]
  },
  {
   "cell_type": "code",
   "execution_count": null,
   "id": "7ac3c9d4",
   "metadata": {},
   "outputs": [],
   "source": [
    "model = tf.keras.Sequential([\n",
    "    Conv2D(16, kernel_size=(5, 5), activation=DENSE_LAYER_ACTIVATION, input_shape=(28, 28, 1), padding='same'),\n",
    "    AveragePooling2D(),\n",
    "    # Conv2D(16, kernel_size=(3, 3), activation=DENSE_LAYER_ACTIVATION, padding='same'),\n",
    "    # BatchNormalization(),\n",
    "    # AveragePooling2D(),\n",
    "    Conv2D(32, kernel_size=(5, 5), activation=DENSE_LAYER_ACTIVATION, padding='same'),\n",
    "    BatchNormalization(),\n",
    "    AveragePooling2D(),\n",
    "    Conv2D(64, kernel_size=(5, 5), activation=DENSE_LAYER_ACTIVATION, padding='same'),\n",
    "    BatchNormalization(),\n",
    "    AveragePooling2D(),\n",
    "    Conv2D(128, kernel_size=(5, 5), activation=DENSE_LAYER_ACTIVATION, padding='same'),\n",
    "    BatchNormalization(),\n",
    "    AveragePooling2D(pool_size=(1, 1)),\n",
    "    Flatten(),\n",
    "    Dense(128, activation=DENSE_LAYER_ACTIVATION),\n",
    "    Dropout(0.5),\n",
    "    Dense(number_of_classes, activation=FINAL_LAYER_ACTIVATION)\n",
    "])"
   ]
  },
  {
   "cell_type": "code",
   "execution_count": null,
   "id": "83f1a3ff",
   "metadata": {},
   "outputs": [],
   "source": [
    "model.compile(optimizer=optimizer,\n",
    "            loss=LOSS_FUNCTION,\n",
    "            metrics=METRICS)\n",
    "\n",
    "callbacks_balance = [\n",
    "    ModelCheckpoint(CHECK_POINT_BALANCE, verbose=1, save_best_only=True, monitor='val_accuracy', mode='max'),\n",
    "    EarlyStopping(monitor='val_accuracy', restore_best_weights=True, patience=PATIENCE, mode='max'),\n",
    "    ReduceLROnPlateau(monitor='val_loss', patience=3, factor=DECAY_FACTOR, min_lr=MIN_LEARNING_RATE)\n",
    "]"
   ]
  },
  {
   "cell_type": "code",
   "execution_count": null,
   "id": "fd4e7eaf",
   "metadata": {},
   "outputs": [],
   "source": [
    "start_time = time.time() \n",
    "history_balance = model.fit(train_x_balance, train_y_balance, batch_size=BATCH_SIZE, epochs=EPOCHS, \n",
    "                                validation_data=(val_x_balance, val_y_balance), callbacks=callbacks_balance)\n",
    "training_time = time.time() - start_time\n",
    "\n",
    "start_time = time.time()\n",
    "predictions = model.predict(test_x_balance)\n",
    "end_time = time.time() \n",
    "total_inference_time = end_time - start_time\n",
    "average_inference_time = total_inference_time / len(test_x_balance)\n",
    "\n",
    "predicted_classes = np.argmax(predictions, axis=1)\n",
    "actual_classes = np.argmax(test_y_balance, axis=1)\n",
    "\n",
    "correct_predictions = np.sum(predicted_classes == actual_classes)\n",
    "accuracy = correct_predictions / len(predicted_classes)\n",
    "\n",
    "print(f\"Correct Predictions: {correct_predictions}\")\n",
    "print(f\"Total Predictions: {len(predicted_classes)}\")\n",
    "print(f\"정확도: {accuracy:.2f}\")\n",
    "print(f\"훈련시간 : {training_time:.2f} seconds.\")\n",
    "print(f\"평균 추론 시간: {average_inference_time:.5f} seconds.\")"
   ]
  },
  {
   "cell_type": "markdown",
   "id": "e70a5358",
   "metadata": {},
   "source": [
    "Correct Predictions: 16716  \n",
    "Total Predictions: 18799  \n",
    "정확도: 0.89  \n",
    "훈련시간 : 477.71 seconds  \n",
    "평균 추론 시간: 0.00003 seconds  "
   ]
  },
  {
   "cell_type": "markdown",
   "id": "9afe2dfb",
   "metadata": {},
   "source": [
    "## Final model with Data augmentation (Additional process)"
   ]
  },
  {
   "cell_type": "markdown",
   "id": "60f72ba1",
   "metadata": {},
   "source": [
    "#### Data augmentation (same as upper cell)"
   ]
  },
  {
   "cell_type": "code",
   "execution_count": null,
   "id": "7c5ae9ee",
   "metadata": {},
   "outputs": [],
   "source": [
    "# 데이터 스케일링 (StandardScaler 사용)\n",
    "scaler = StandardScaler()\n",
    "\n",
    "img_generator = tf.keras.preprocessing.image.ImageDataGenerator(\n",
    "    rotation_range=20,\n",
    "    width_shift_range=0.2,\n",
    "    height_shift_range=0.2,\n",
    ")\n",
    "\n",
    "img_generator2 = tf.keras.preprocessing.image.ImageDataGenerator(\n",
    "    rotation_range=30,\n",
    "    width_shift_range=0.1,\n",
    "    height_shift_range=0.1,\n",
    ")\n",
    "\n",
    "img_generator3 = tf.keras.preprocessing.image.ImageDataGenerator(\n",
    "    rotation_range=45,\n",
    "    width_shift_range=0.05,\n",
    "    height_shift_range=0.05,\n",
    ")\n",
    "\n",
    "aug1_train_data = img_generator.flow(train_x_balance,train_y_balance, batch_size=len(train_x_balance))\n",
    "aug2_train_data = img_generator2.flow(train_x_balance,train_y_balance, batch_size=len(train_x_balance))\n",
    "aug3_train_data = img_generator3.flow(train_x_balance,train_y_balance, batch_size=len(train_x_balance))\n",
    "\n",
    "aug1_x,aug1_y = aug1_train_data.next()\n",
    "aug2_x,aug2_y = aug2_train_data.next()\n",
    "aug3_x,aug3_y = aug3_train_data.next()\n",
    "\n",
    "x_combined = np.concatenate((train_x_balance,aug1_x,aug2_x,aug3_x))\n",
    "y_combined = np.concatenate((train_y_balance,aug1_y,aug2_y,aug3_y))\n",
    "\n",
    "shuffle_index = np.random.permutation(len(x_combined))\n",
    "x_combined_shff = x_combined[shuffle_index]\n",
    "y_combined_shff = y_combined[shuffle_index]\n",
    "\n",
    "\n",
    "aug1_valid_data = img_generator.flow(val_x_balance,val_y_balance, batch_size=len(val_x_balance))\n",
    "aug2_valid_data = img_generator2.flow(val_x_balance,val_y_balance, batch_size=len(val_x_balance))\n",
    "aug3_valid_data = img_generator3.flow(val_x_balance,val_y_balance, batch_size=len(val_x_balance))\n",
    "\n",
    "aug1_val_x,aug1_val_y = aug1_valid_data.next()\n",
    "aug2_val_x,aug2_val_y = aug2_valid_data.next()\n",
    "aug3_val_x,aug3_val_y = aug3_valid_data.next()\n",
    "\n",
    "x_val_combined = np.concatenate((val_x_balance,aug1_val_x,aug2_val_x,aug3_val_x))\n",
    "y_val_combined = np.concatenate((val_y_balance,aug1_val_y,aug2_val_y,aug3_val_y))\n",
    "\n",
    "shuffle_index2 = np.random.permutation(len(x_val_combined))\n",
    "x_combined_val_shff = x_val_combined[shuffle_index2]\n",
    "y_combined_val_shff = y_val_combined[shuffle_index2]\n",
    "\n",
    "#이미지를 2D 배열로 변환\n",
    "n_samples, height, width, n_channels = x_combined_shff.shape\n",
    "x_combined_shff = x_combined_shff.reshape((n_samples, -1))\n",
    "\n",
    "# 학습 데이터 스케일러 학습 및 변환\n",
    "scaler.fit(x_combined_shff)\n",
    "x_combined_shff = scaler.transform(x_combined_shff)\n",
    "\n",
    "# 스케일된 데이터를 다시 원래 이미지 형태로 변환\n",
    "x_combined_shff = x_combined_shff.reshape((n_samples, height, width, n_channels))\n",
    "\n",
    "# 검증 데이터 동일한 스케일러로 변환\n",
    "n_val_samples = x_combined_val_shff.shape[0]\n",
    "x_combined_val_shff = x_combined_val_shff.reshape((n_val_samples, -1))\n",
    "x_combined_val_shff = scaler.transform(x_combined_val_shff)\n",
    "x_combined_val_shff = x_combined_val_shff.reshape((n_val_samples, height, width, n_channels))\n",
    "\n",
    "# 테스트 데이터 동일한 스케일로 변환\n",
    "n_val_samples = test_x_balance.shape[0]\n",
    "test_x_balance = test_x_balance.reshape((n_val_samples, -1))\n",
    "test_x_balance = scaler.transform(test_x_balance)\n",
    "test_x_balance = test_x_balance.reshape((n_val_samples, height, width, n_channels))"
   ]
  },
  {
   "cell_type": "code",
   "execution_count": null,
   "id": "ee505527",
   "metadata": {},
   "outputs": [],
   "source": [
    "model = tf.keras.Sequential([\n",
    "    Conv2D(16, kernel_size=(5, 5), activation=DENSE_LAYER_ACTIVATION, input_shape=(28, 28, 1), padding='same'),\n",
    "    AveragePooling2D(),\n",
    "    # Conv2D(16, kernel_size=(3, 3), activation=DENSE_LAYER_ACTIVATION, padding='same'),\n",
    "    # BatchNormalization(),\n",
    "    # AveragePooling2D(),\n",
    "    Conv2D(32, kernel_size=(5, 5), activation=DENSE_LAYER_ACTIVATION, padding='same'),\n",
    "    BatchNormalization(),\n",
    "    AveragePooling2D(),\n",
    "    Conv2D(64, kernel_size=(5, 5), activation=DENSE_LAYER_ACTIVATION, padding='same'),\n",
    "    BatchNormalization(),\n",
    "    AveragePooling2D(),\n",
    "    Conv2D(128, kernel_size=(5, 5), activation=DENSE_LAYER_ACTIVATION, padding='same'),\n",
    "    BatchNormalization(),\n",
    "    AveragePooling2D(pool_size=(1, 1)),\n",
    "    Flatten(),\n",
    "    Dense(128, activation=DENSE_LAYER_ACTIVATION),\n",
    "    Dropout(0.5),\n",
    "    Dense(number_of_classes, activation=FINAL_LAYER_ACTIVATION)\n",
    "])"
   ]
  },
  {
   "attachments": {},
   "cell_type": "markdown",
   "id": "1a7bbc4b",
   "metadata": {},
   "source": [
    "Correct Predictions: 16731   \n",
    "Total Predictions: 18799  \n",
    "정확도: 0.89  \n",
    "훈련시간 : 2399.52 seconds.  \n",
    "평균 추론 시간: 0.0001 seconds.  "
   ]
  },
  {
   "cell_type": "markdown",
   "id": "0a2624a2",
   "metadata": {},
   "source": []
  }
 ],
 "metadata": {
  "kernelspec": {
   "display_name": "Python 3 (ipykernel)",
   "language": "python",
   "name": "python3"
  },
  "language_info": {
   "codemirror_mode": {
    "name": "ipython",
    "version": 3
   },
   "file_extension": ".py",
   "mimetype": "text/x-python",
   "name": "python",
   "nbconvert_exporter": "python",
   "pygments_lexer": "ipython3",
   "version": "3.7.16"
  }
 },
 "nbformat": 4,
 "nbformat_minor": 5
}
